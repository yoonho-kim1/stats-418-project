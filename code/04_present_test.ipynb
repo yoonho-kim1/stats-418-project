{
 "cells": [
  {
   "cell_type": "markdown",
   "id": "49f3ad22",
   "metadata": {},
   "source": [
    "### Import Libraries"
   ]
  },
  {
   "cell_type": "code",
   "execution_count": 6,
   "id": "6724b1f3",
   "metadata": {},
   "outputs": [],
   "source": [
    "import numpy as np\n",
    "import pandas as pd\n",
    "import re\n",
    "import os\n",
    "import pickle\n",
    "from sklearn.preprocessing import LabelEncoder\n",
    "from lightfm.data import Dataset\n",
    "from lightfm import LightFM\n",
    "from lightfm.evaluation import auc_score, precision_at_k\n",
    "from scipy.sparse import csr_matrix, coo_matrix\n",
    "from sklearn.preprocessing import LabelEncoder\n",
    "from tqdm import tqdm \n",
    "import matplotlib.pyplot as plt\n",
    "import seaborn as sns\n",
    "%matplotlib inline"
   ]
  },
  {
   "cell_type": "markdown",
   "id": "a889d068",
   "metadata": {},
   "source": [
    "### Import Data"
   ]
  },
  {
   "cell_type": "code",
   "execution_count": 7,
   "id": "a2dd4af7",
   "metadata": {},
   "outputs": [],
   "source": [
    "movie = pd.read_pickle('../assets/movie.pkl')\n",
    "rating = pd.read_pickle('../assets/new_rating.pkl')"
   ]
  },
  {
   "cell_type": "code",
   "execution_count": 8,
   "id": "da2e87a7",
   "metadata": {},
   "outputs": [],
   "source": [
    "num_of_rows = 3000000\n",
    "new_rating = rating.sample(num_of_rows)"
   ]
  },
  {
   "cell_type": "markdown",
   "id": "d9148f72",
   "metadata": {},
   "source": [
    "### Helpers"
   ]
  },
  {
   "cell_type": "code",
   "execution_count": 9,
   "id": "289d1d0f",
   "metadata": {},
   "outputs": [],
   "source": [
    "def get_cutoff(data, target):\n",
    "    \n",
    "    \"\"\"This function will identify summary statistics from our dataset.\n",
    "    Input:  \n",
    "    data (dataframe): the original dataframe\n",
    "    target (str): a column that we want to get the summary statistics\n",
    "    Output:\n",
    "    summaries (tuple): contains 25% and 75% from the dataset\n",
    "    \"\"\"\n",
    "    \n",
    "    # check if the values under the target are int/float\n",
    "    \n",
    "    value_type = data[target].dtypes\n",
    "    if value_type == 'O':\n",
    "        print(f\"{target}'s data type is not int or float. Please check it again.'\")\n",
    "\n",
    "    \n",
    "    # get the summary stats\n",
    "    summary_stats = data[target].describe()\n",
    "    \n",
    "    low = summary_stats['25%']\n",
    "    high = summary_stats['75%']\n",
    "    \n",
    "    # combine the results as tuple\n",
    "    summaries = (low, high)\n",
    "    \n",
    "    return summaries"
   ]
  },
  {
   "cell_type": "code",
   "execution_count": 10,
   "id": "7490cc9b",
   "metadata": {},
   "outputs": [
    {
     "name": "stderr",
     "output_type": "stream",
     "text": [
      "C:\\Users\\Noah\\anaconda3\\lib\\site-packages\\pandas\\core\\reshape\\reshape.py:130: RuntimeWarning: overflow encountered in long_scalars\n",
      "  num_cells = num_rows * num_columns\n"
     ]
    },
    {
     "ename": "IndexError",
     "evalue": "index 1109850321 is out of bounds for axis 0 with size 1109846800",
     "output_type": "error",
     "traceback": [
      "\u001b[1;31m---------------------------------------------------------------------------\u001b[0m",
      "\u001b[1;31mIndexError\u001b[0m                                Traceback (most recent call last)",
      "Input \u001b[1;32mIn [10]\u001b[0m, in \u001b[0;36m<cell line: 1>\u001b[1;34m()\u001b[0m\n\u001b[1;32m----> 1\u001b[0m user_movie_interaction \u001b[38;5;241m=\u001b[39m \u001b[43mpd\u001b[49m\u001b[38;5;241;43m.\u001b[39;49m\u001b[43mpivot_table\u001b[49m\u001b[43m(\u001b[49m\u001b[43mnew_rating\u001b[49m\u001b[43m,\u001b[49m\u001b[43m \u001b[49m\n\u001b[0;32m      2\u001b[0m \u001b[43m                                        \u001b[49m\u001b[43mindex\u001b[49m\u001b[43m \u001b[49m\u001b[38;5;241;43m=\u001b[39;49m\u001b[43m \u001b[49m\u001b[38;5;124;43m'\u001b[39;49m\u001b[38;5;124;43muserId\u001b[39;49m\u001b[38;5;124;43m'\u001b[39;49m\u001b[43m,\u001b[49m\u001b[43m \u001b[49m\n\u001b[0;32m      3\u001b[0m \u001b[43m                                        \u001b[49m\u001b[43mcolumns\u001b[49m\u001b[38;5;241;43m=\u001b[39;49m\u001b[38;5;124;43m'\u001b[39;49m\u001b[38;5;124;43mmovieId\u001b[39;49m\u001b[38;5;124;43m'\u001b[39;49m\u001b[43m,\u001b[49m\u001b[43m \u001b[49m\n\u001b[0;32m      4\u001b[0m \u001b[43m                                        \u001b[49m\u001b[43mvalues\u001b[49m\u001b[38;5;241;43m=\u001b[39;49m\u001b[38;5;124;43m'\u001b[39;49m\u001b[38;5;124;43mrating\u001b[39;49m\u001b[38;5;124;43m'\u001b[39;49m\u001b[43m)\u001b[49m\n\u001b[0;32m      5\u001b[0m user_movie_interaction\u001b[38;5;241m.\u001b[39mfillna(\u001b[38;5;241m0\u001b[39m,inplace\u001b[38;5;241m=\u001b[39m\u001b[38;5;28;01mTrue\u001b[39;00m)\n\u001b[0;32m      6\u001b[0m user_movie_csr \u001b[38;5;241m=\u001b[39m csr_matrix(user_movie_interaction\u001b[38;5;241m.\u001b[39mvalues)\n",
      "File \u001b[1;32m~\\anaconda3\\lib\\site-packages\\pandas\\core\\reshape\\pivot.py:95\u001b[0m, in \u001b[0;36mpivot_table\u001b[1;34m(data, values, index, columns, aggfunc, fill_value, margins, dropna, margins_name, observed, sort)\u001b[0m\n\u001b[0;32m     92\u001b[0m     table \u001b[38;5;241m=\u001b[39m concat(pieces, keys\u001b[38;5;241m=\u001b[39mkeys, axis\u001b[38;5;241m=\u001b[39m\u001b[38;5;241m1\u001b[39m)\n\u001b[0;32m     93\u001b[0m     \u001b[38;5;28;01mreturn\u001b[39;00m table\u001b[38;5;241m.\u001b[39m__finalize__(data, method\u001b[38;5;241m=\u001b[39m\u001b[38;5;124m\"\u001b[39m\u001b[38;5;124mpivot_table\u001b[39m\u001b[38;5;124m\"\u001b[39m)\n\u001b[1;32m---> 95\u001b[0m table \u001b[38;5;241m=\u001b[39m \u001b[43m__internal_pivot_table\u001b[49m\u001b[43m(\u001b[49m\n\u001b[0;32m     96\u001b[0m \u001b[43m    \u001b[49m\u001b[43mdata\u001b[49m\u001b[43m,\u001b[49m\n\u001b[0;32m     97\u001b[0m \u001b[43m    \u001b[49m\u001b[43mvalues\u001b[49m\u001b[43m,\u001b[49m\n\u001b[0;32m     98\u001b[0m \u001b[43m    \u001b[49m\u001b[43mindex\u001b[49m\u001b[43m,\u001b[49m\n\u001b[0;32m     99\u001b[0m \u001b[43m    \u001b[49m\u001b[43mcolumns\u001b[49m\u001b[43m,\u001b[49m\n\u001b[0;32m    100\u001b[0m \u001b[43m    \u001b[49m\u001b[43maggfunc\u001b[49m\u001b[43m,\u001b[49m\n\u001b[0;32m    101\u001b[0m \u001b[43m    \u001b[49m\u001b[43mfill_value\u001b[49m\u001b[43m,\u001b[49m\n\u001b[0;32m    102\u001b[0m \u001b[43m    \u001b[49m\u001b[43mmargins\u001b[49m\u001b[43m,\u001b[49m\n\u001b[0;32m    103\u001b[0m \u001b[43m    \u001b[49m\u001b[43mdropna\u001b[49m\u001b[43m,\u001b[49m\n\u001b[0;32m    104\u001b[0m \u001b[43m    \u001b[49m\u001b[43mmargins_name\u001b[49m\u001b[43m,\u001b[49m\n\u001b[0;32m    105\u001b[0m \u001b[43m    \u001b[49m\u001b[43mobserved\u001b[49m\u001b[43m,\u001b[49m\n\u001b[0;32m    106\u001b[0m \u001b[43m    \u001b[49m\u001b[43msort\u001b[49m\u001b[43m,\u001b[49m\n\u001b[0;32m    107\u001b[0m \u001b[43m\u001b[49m\u001b[43m)\u001b[49m\n\u001b[0;32m    108\u001b[0m \u001b[38;5;28;01mreturn\u001b[39;00m table\u001b[38;5;241m.\u001b[39m__finalize__(data, method\u001b[38;5;241m=\u001b[39m\u001b[38;5;124m\"\u001b[39m\u001b[38;5;124mpivot_table\u001b[39m\u001b[38;5;124m\"\u001b[39m)\n",
      "File \u001b[1;32m~\\anaconda3\\lib\\site-packages\\pandas\\core\\reshape\\pivot.py:204\u001b[0m, in \u001b[0;36m__internal_pivot_table\u001b[1;34m(data, values, index, columns, aggfunc, fill_value, margins, dropna, margins_name, observed, sort)\u001b[0m\n\u001b[0;32m    202\u001b[0m         \u001b[38;5;28;01melse\u001b[39;00m:\n\u001b[0;32m    203\u001b[0m             to_unstack\u001b[38;5;241m.\u001b[39mappend(name)\n\u001b[1;32m--> 204\u001b[0m     table \u001b[38;5;241m=\u001b[39m \u001b[43magged\u001b[49m\u001b[38;5;241;43m.\u001b[39;49m\u001b[43munstack\u001b[49m\u001b[43m(\u001b[49m\u001b[43mto_unstack\u001b[49m\u001b[43m)\u001b[49m\n\u001b[0;32m    206\u001b[0m \u001b[38;5;28;01mif\u001b[39;00m \u001b[38;5;129;01mnot\u001b[39;00m dropna:\n\u001b[0;32m    207\u001b[0m     \u001b[38;5;28;01mif\u001b[39;00m \u001b[38;5;28misinstance\u001b[39m(table\u001b[38;5;241m.\u001b[39mindex, MultiIndex):\n",
      "File \u001b[1;32m~\\anaconda3\\lib\\site-packages\\pandas\\core\\frame.py:8419\u001b[0m, in \u001b[0;36mDataFrame.unstack\u001b[1;34m(self, level, fill_value)\u001b[0m\n\u001b[0;32m   8357\u001b[0m \u001b[38;5;124;03m\"\"\"\u001b[39;00m\n\u001b[0;32m   8358\u001b[0m \u001b[38;5;124;03mPivot a level of the (necessarily hierarchical) index labels.\u001b[39;00m\n\u001b[0;32m   8359\u001b[0m \n\u001b[1;32m   (...)\u001b[0m\n\u001b[0;32m   8415\u001b[0m \u001b[38;5;124;03mdtype: float64\u001b[39;00m\n\u001b[0;32m   8416\u001b[0m \u001b[38;5;124;03m\"\"\"\u001b[39;00m\n\u001b[0;32m   8417\u001b[0m \u001b[38;5;28;01mfrom\u001b[39;00m \u001b[38;5;21;01mpandas\u001b[39;00m\u001b[38;5;21;01m.\u001b[39;00m\u001b[38;5;21;01mcore\u001b[39;00m\u001b[38;5;21;01m.\u001b[39;00m\u001b[38;5;21;01mreshape\u001b[39;00m\u001b[38;5;21;01m.\u001b[39;00m\u001b[38;5;21;01mreshape\u001b[39;00m \u001b[38;5;28;01mimport\u001b[39;00m unstack\n\u001b[1;32m-> 8419\u001b[0m result \u001b[38;5;241m=\u001b[39m \u001b[43munstack\u001b[49m\u001b[43m(\u001b[49m\u001b[38;5;28;43mself\u001b[39;49m\u001b[43m,\u001b[49m\u001b[43m \u001b[49m\u001b[43mlevel\u001b[49m\u001b[43m,\u001b[49m\u001b[43m \u001b[49m\u001b[43mfill_value\u001b[49m\u001b[43m)\u001b[49m\n\u001b[0;32m   8421\u001b[0m \u001b[38;5;28;01mreturn\u001b[39;00m result\u001b[38;5;241m.\u001b[39m__finalize__(\u001b[38;5;28mself\u001b[39m, method\u001b[38;5;241m=\u001b[39m\u001b[38;5;124m\"\u001b[39m\u001b[38;5;124munstack\u001b[39m\u001b[38;5;124m\"\u001b[39m)\n",
      "File \u001b[1;32m~\\anaconda3\\lib\\site-packages\\pandas\\core\\reshape\\reshape.py:478\u001b[0m, in \u001b[0;36munstack\u001b[1;34m(obj, level, fill_value)\u001b[0m\n\u001b[0;32m    476\u001b[0m \u001b[38;5;28;01mif\u001b[39;00m \u001b[38;5;28misinstance\u001b[39m(obj, DataFrame):\n\u001b[0;32m    477\u001b[0m     \u001b[38;5;28;01mif\u001b[39;00m \u001b[38;5;28misinstance\u001b[39m(obj\u001b[38;5;241m.\u001b[39mindex, MultiIndex):\n\u001b[1;32m--> 478\u001b[0m         \u001b[38;5;28;01mreturn\u001b[39;00m \u001b[43m_unstack_frame\u001b[49m\u001b[43m(\u001b[49m\u001b[43mobj\u001b[49m\u001b[43m,\u001b[49m\u001b[43m \u001b[49m\u001b[43mlevel\u001b[49m\u001b[43m,\u001b[49m\u001b[43m \u001b[49m\u001b[43mfill_value\u001b[49m\u001b[38;5;241;43m=\u001b[39;49m\u001b[43mfill_value\u001b[49m\u001b[43m)\u001b[49m\n\u001b[0;32m    479\u001b[0m     \u001b[38;5;28;01melse\u001b[39;00m:\n\u001b[0;32m    480\u001b[0m         \u001b[38;5;28;01mreturn\u001b[39;00m obj\u001b[38;5;241m.\u001b[39mT\u001b[38;5;241m.\u001b[39mstack(dropna\u001b[38;5;241m=\u001b[39m\u001b[38;5;28;01mFalse\u001b[39;00m)\n",
      "File \u001b[1;32m~\\anaconda3\\lib\\site-packages\\pandas\\core\\reshape\\reshape.py:505\u001b[0m, in \u001b[0;36m_unstack_frame\u001b[1;34m(obj, level, fill_value)\u001b[0m\n\u001b[0;32m    503\u001b[0m     \u001b[38;5;28;01mreturn\u001b[39;00m obj\u001b[38;5;241m.\u001b[39m_constructor(mgr)\n\u001b[0;32m    504\u001b[0m \u001b[38;5;28;01melse\u001b[39;00m:\n\u001b[1;32m--> 505\u001b[0m     unstacker \u001b[38;5;241m=\u001b[39m \u001b[43m_Unstacker\u001b[49m\u001b[43m(\u001b[49m\u001b[43mobj\u001b[49m\u001b[38;5;241;43m.\u001b[39;49m\u001b[43mindex\u001b[49m\u001b[43m,\u001b[49m\u001b[43m \u001b[49m\u001b[43mlevel\u001b[49m\u001b[38;5;241;43m=\u001b[39;49m\u001b[43mlevel\u001b[49m\u001b[43m,\u001b[49m\u001b[43m \u001b[49m\u001b[43mconstructor\u001b[49m\u001b[38;5;241;43m=\u001b[39;49m\u001b[43mobj\u001b[49m\u001b[38;5;241;43m.\u001b[39;49m\u001b[43m_constructor\u001b[49m\u001b[43m)\u001b[49m\n\u001b[0;32m    506\u001b[0m     \u001b[38;5;28;01mreturn\u001b[39;00m unstacker\u001b[38;5;241m.\u001b[39mget_result(\n\u001b[0;32m    507\u001b[0m         obj\u001b[38;5;241m.\u001b[39m_values, value_columns\u001b[38;5;241m=\u001b[39mobj\u001b[38;5;241m.\u001b[39mcolumns, fill_value\u001b[38;5;241m=\u001b[39mfill_value\n\u001b[0;32m    508\u001b[0m     )\n",
      "File \u001b[1;32m~\\anaconda3\\lib\\site-packages\\pandas\\core\\reshape\\reshape.py:140\u001b[0m, in \u001b[0;36m_Unstacker.__init__\u001b[1;34m(self, index, level, constructor)\u001b[0m\n\u001b[0;32m    133\u001b[0m \u001b[38;5;28;01mif\u001b[39;00m num_cells \u001b[38;5;241m>\u001b[39m np\u001b[38;5;241m.\u001b[39miinfo(np\u001b[38;5;241m.\u001b[39mint32)\u001b[38;5;241m.\u001b[39mmax:\n\u001b[0;32m    134\u001b[0m     warnings\u001b[38;5;241m.\u001b[39mwarn(\n\u001b[0;32m    135\u001b[0m         \u001b[38;5;124mf\u001b[39m\u001b[38;5;124m\"\u001b[39m\u001b[38;5;124mThe following operation may generate \u001b[39m\u001b[38;5;132;01m{\u001b[39;00mnum_cells\u001b[38;5;132;01m}\u001b[39;00m\u001b[38;5;124m cells \u001b[39m\u001b[38;5;124m\"\u001b[39m\n\u001b[0;32m    136\u001b[0m         \u001b[38;5;124mf\u001b[39m\u001b[38;5;124m\"\u001b[39m\u001b[38;5;124min the resulting pandas object.\u001b[39m\u001b[38;5;124m\"\u001b[39m,\n\u001b[0;32m    137\u001b[0m         PerformanceWarning,\n\u001b[0;32m    138\u001b[0m     )\n\u001b[1;32m--> 140\u001b[0m \u001b[38;5;28;43mself\u001b[39;49m\u001b[38;5;241;43m.\u001b[39;49m\u001b[43m_make_selectors\u001b[49m\u001b[43m(\u001b[49m\u001b[43m)\u001b[49m\n",
      "File \u001b[1;32m~\\anaconda3\\lib\\site-packages\\pandas\\core\\reshape\\reshape.py:189\u001b[0m, in \u001b[0;36m_Unstacker._make_selectors\u001b[1;34m(self)\u001b[0m\n\u001b[0;32m    187\u001b[0m selector \u001b[38;5;241m=\u001b[39m \u001b[38;5;28mself\u001b[39m\u001b[38;5;241m.\u001b[39msorted_labels[\u001b[38;5;241m-\u001b[39m\u001b[38;5;241m1\u001b[39m] \u001b[38;5;241m+\u001b[39m stride \u001b[38;5;241m*\u001b[39m comp_index \u001b[38;5;241m+\u001b[39m \u001b[38;5;28mself\u001b[39m\u001b[38;5;241m.\u001b[39mlift\n\u001b[0;32m    188\u001b[0m mask \u001b[38;5;241m=\u001b[39m np\u001b[38;5;241m.\u001b[39mzeros(np\u001b[38;5;241m.\u001b[39mprod(\u001b[38;5;28mself\u001b[39m\u001b[38;5;241m.\u001b[39mfull_shape), dtype\u001b[38;5;241m=\u001b[39m\u001b[38;5;28mbool\u001b[39m)\n\u001b[1;32m--> 189\u001b[0m \u001b[43mmask\u001b[49m\u001b[38;5;241;43m.\u001b[39;49m\u001b[43mput\u001b[49m\u001b[43m(\u001b[49m\u001b[43mselector\u001b[49m\u001b[43m,\u001b[49m\u001b[43m \u001b[49m\u001b[38;5;28;43;01mTrue\u001b[39;49;00m\u001b[43m)\u001b[49m\n\u001b[0;32m    191\u001b[0m \u001b[38;5;28;01mif\u001b[39;00m mask\u001b[38;5;241m.\u001b[39msum() \u001b[38;5;241m<\u001b[39m \u001b[38;5;28mlen\u001b[39m(\u001b[38;5;28mself\u001b[39m\u001b[38;5;241m.\u001b[39mindex):\n\u001b[0;32m    192\u001b[0m     \u001b[38;5;28;01mraise\u001b[39;00m \u001b[38;5;167;01mValueError\u001b[39;00m(\u001b[38;5;124m\"\u001b[39m\u001b[38;5;124mIndex contains duplicate entries, cannot reshape\u001b[39m\u001b[38;5;124m\"\u001b[39m)\n",
      "\u001b[1;31mIndexError\u001b[0m: index 1109850321 is out of bounds for axis 0 with size 1109846800"
     ]
    }
   ],
   "source": [
    "user_movie_interaction = pd.pivot_table(new_rating, \n",
    "                                        index = 'userId', \n",
    "                                        columns='movieId', \n",
    "                                        values='rating')\n",
    "user_movie_interaction.fillna(0,inplace=True)\n",
    "user_movie_csr = csr_matrix(user_movie_interaction.values)"
   ]
  },
  {
   "cell_type": "code",
   "execution_count": 8,
   "id": "bf795e00",
   "metadata": {},
   "outputs": [
    {
     "ename": "NameError",
     "evalue": "name 'user_movie_interaction' is not defined",
     "output_type": "error",
     "traceback": [
      "\u001b[1;31m---------------------------------------------------------------------------\u001b[0m",
      "\u001b[1;31mNameError\u001b[0m                                 Traceback (most recent call last)",
      "Input \u001b[1;32mIn [8]\u001b[0m, in \u001b[0;36m<cell line: 1>\u001b[1;34m()\u001b[0m\n\u001b[1;32m----> 1\u001b[0m n_users, n_items \u001b[38;5;241m=\u001b[39m \u001b[43muser_movie_interaction\u001b[49m\u001b[38;5;241m.\u001b[39mshape\n",
      "\u001b[1;31mNameError\u001b[0m: name 'user_movie_interaction' is not defined"
     ]
    }
   ],
   "source": [
    "n_users, n_items = user_movie_interaction.shape"
   ]
  },
  {
   "cell_type": "code",
   "execution_count": 105,
   "id": "83e0462b",
   "metadata": {},
   "outputs": [],
   "source": [
    "def get_user_features(item_df, user_df):\n",
    "    \n",
    "    # select features from the dataset\n",
    "    item_features = ['clean_movie_title', 'new_genres']\n",
    "    item_df = item_df[item_features]\n",
    "\n",
    "    user_features = ['movieId', 'rating', 'movie_popularities', 'groupped_year']\n",
    "    user_df = user_df[user_features]\n",
    "    \n",
    "    # create a list to store the results\n",
    "    user_data = []\n",
    "    \n",
    "    # unique user in the dataset\n",
    "    unique_user = list(set(user_df.index))\n",
    "    unique_genre = sorted(set(map(lambda genre: \\\n",
    "                                  genre.strip(),','.join(map(lambda genre: str(genre), item_df['new_genres'].values))\\\n",
    "                                  .split(','))))[:-1]\n",
    "    \n",
    "    # get user specific information\n",
    "    for user in unique_user:\n",
    "        user_specific_df = user_df[user_df.index == user]\n",
    "        total_reviews = len(user_specific_df)\n",
    "        genres = item_df.loc[user_specific_df['movieId']]['new_genres'].values\n",
    "        user_genre_list = list(genres)\n",
    "        user_genre_list_split = (','.join(map(lambda genre: str(genre), user_genre_list))).split(',')\n",
    "        \n",
    "        user_genre_score = {}\n",
    "        \n",
    "        # normalize the score\n",
    "        for genre in unique_genre:\n",
    "            user_genre_score[genre] = user_genre_list_split.count(genre)/total_reviews\n",
    "    \n",
    "        user_data.append([user, user_genre_score])\n",
    "    \n",
    "    return user_data\n",
    "            "
   ]
  },
  {
   "cell_type": "code",
   "execution_count": 15,
   "id": "c8825d73",
   "metadata": {},
   "outputs": [],
   "source": [
    "movie_metadata = movie.set_index('movieId')\n",
    "user_metadata = new_rating.set_index('userId')"
   ]
  },
  {
   "cell_type": "code",
   "execution_count": 19,
   "id": "29c0d6e5",
   "metadata": {
    "scrolled": true
   },
   "outputs": [],
   "source": [
    "user_feats = get_user_features(movie_metadata, user_metadata)"
   ]
  },
  {
   "cell_type": "code",
   "execution_count": 63,
   "id": "9b37b296",
   "metadata": {},
   "outputs": [],
   "source": [
    "unique_genre = sorted(set(map(lambda genre: \\\n",
    "                                  genre.strip(),','.join(map(lambda genre: str(genre), movie['new_genres'].values))\\\n",
    "                                  .split(','))))"
   ]
  },
  {
   "cell_type": "code",
   "execution_count": 64,
   "id": "3ab3c56d",
   "metadata": {},
   "outputs": [],
   "source": [
    "dataset = Dataset(user_identity_features = False)\n",
    "dataset.fit(new_rating.sort_values(by = 'userId')['userId'].unique(),\n",
    "            new_rating.sort_values(by = 'movieId')['movieId'].unique(),\n",
    "            user_features = unique_genre,\n",
    "            item_features = [\"Name\"])\n",
    "user_features = dataset.build_user_features(user_feats,\n",
    "                                            normalize=True)"
   ]
  },
  {
   "cell_type": "code",
   "execution_count": 65,
   "id": "6f052d0c",
   "metadata": {},
   "outputs": [
    {
     "name": "stderr",
     "output_type": "stream",
     "text": [
      "100%|███████████████████████████████████████████| 10/10 [01:55<00:00, 11.54s/it]\n"
     ]
    }
   ],
   "source": [
    "model_hybrid = LightFM(loss='warp')\n",
    "\n",
    "for epoch in tqdm(range(10)):\n",
    "    model_hybrid.fit(user_movie_csr, \n",
    "                     user_features=user_features,\n",
    "                     epochs= 10, \n",
    "                     num_threads= 32)"
   ]
  },
  {
   "cell_type": "code",
   "execution_count": 25,
   "id": "518b2978",
   "metadata": {},
   "outputs": [],
   "source": [
    "unique_users = new_rating.sort_values(by = 'userId')['userId'].unique()"
   ]
  },
  {
   "cell_type": "code",
   "execution_count": 107,
   "id": "5b90f612",
   "metadata": {},
   "outputs": [],
   "source": [
    "def recommend_top5(model, movie, dataset, user_id=None, new_user_feature=None, k=5):\n",
    "    \n",
    "    nmovie=movie.set_index('movieId')\n",
    "    \n",
    "    max_user_id = max(rating.userId)\n",
    "    if user_id is None:\n",
    "        user_id = max_user_id +1\n",
    "    if user_id > max_user_id:\n",
    "        for genre in unique_genre:\n",
    "            if genre not in list(new_user_feature.keys()):\n",
    "                new_user_feature[genre] = 0\n",
    "        dataset.fit_partial(users=[user_id],user_features=unique_genre)\n",
    "        new_user_feature = [user_id,new_user_feature]\n",
    "        new_user_feature = dataset.build_user_features([new_user_feature],normalize=False)\n",
    "\n",
    "    user_id_map = dataset.mapping()[0][user_id] \n",
    "    scores = model.predict(user_id_map, np.arange(n_items),user_features=new_user_feature)\n",
    "    rank = np.argsort(-scores)\n",
    "    selected_movie_id =np.array(list(dataset.mapping()[2].keys()))[rank]\n",
    "    top_items = nmovie.loc[selected_movie_id]\n",
    "\n",
    "        \n",
    "    return top_items['clean_movie_title'][:5]"
   ]
  },
  {
   "cell_type": "markdown",
   "id": "068fb334",
   "metadata": {},
   "source": [
    "### Testing"
   ]
  },
  {
   "cell_type": "markdown",
   "id": "be229c8d",
   "metadata": {},
   "source": [
    "change a bit so that we can see what they've watched and their recommended movies"
   ]
  },
  {
   "cell_type": "code",
   "execution_count": 127,
   "id": "9feb852d",
   "metadata": {
    "scrolled": true
   },
   "outputs": [
    {
     "data": {
      "text/plain": [
       "movieId\n",
       "77561              Iron Man 2\n",
       "89745           Avengers, The\n",
       "6365     Matrix Reloaded, The\n",
       "2571              Matrix, The\n",
       "72998                  Avatar\n",
       "Name: clean_movie_title, dtype: object"
      ]
     },
     "execution_count": 127,
     "metadata": {},
     "output_type": "execute_result"
    }
   ],
   "source": [
    "recommend_top5(model_hybrid,\n",
    "            movie,\n",
    "            dataset,\n",
    "            user_id = 2)"
   ]
  },
  {
   "cell_type": "code",
   "execution_count": 112,
   "id": "5737dc3d",
   "metadata": {
    "scrolled": true
   },
   "outputs": [
    {
     "data": {
      "text/plain": [
       "movieId\n",
       "2918           Ferris Bueller's Day Off\n",
       "223                              Clerks\n",
       "141                       Birdcage, The\n",
       "344          Ace Ventura: Pet Detective\n",
       "231     Dumb & Dumber (Dumb and Dumber)\n",
       "Name: clean_movie_title, dtype: object"
      ]
     },
     "execution_count": 112,
     "metadata": {},
     "output_type": "execute_result"
    }
   ],
   "source": [
    "recommend_top5(model_hybrid,\n",
    "            movie,\n",
    "            dataset,\n",
    "            user_id = None,\n",
    "            new_user_feature= {'Comedy':1, 'Mystery': 0.5, 'Adventure':0.8})"
   ]
  },
  {
   "cell_type": "code",
   "execution_count": 126,
   "id": "4410ca5c",
   "metadata": {},
   "outputs": [
    {
     "data": {
      "text/plain": [
       "movieId\n",
       "2918           Ferris Bueller's Day Off\n",
       "231     Dumb & Dumber (Dumb and Dumber)\n",
       "380                           True Lies\n",
       "223                              Clerks\n",
       "1197                Princess Bride, The\n",
       "Name: clean_movie_title, dtype: object"
      ]
     },
     "execution_count": 126,
     "metadata": {},
     "output_type": "execute_result"
    }
   ],
   "source": [
    "recommend_top5(model_hybrid,\n",
    "            movie,\n",
    "            dataset,\n",
    "            user_id = None,\n",
    "            new_user_feature= {'Comedy':0.6, 'Mystery': 0.5, 'Adventure':0.8})"
   ]
  },
  {
   "cell_type": "code",
   "execution_count": 113,
   "id": "bce99656",
   "metadata": {},
   "outputs": [],
   "source": [
    "rand_user_info = {}\n",
    "\n",
    "for genre in unique_genre:\n",
    "    rand_score = round(np.random.rand(1)[0], 4)\n",
    "    rand_user_info[genre] = rand_score"
   ]
  },
  {
   "cell_type": "code",
   "execution_count": 131,
   "id": "bd902b85",
   "metadata": {},
   "outputs": [
    {
     "data": {
      "text/plain": [
       "movieId\n",
       "364           Lion King, The\n",
       "68954                     Up\n",
       "51662                    300\n",
       "116797    The Imitation Game\n",
       "115210                  Fury\n",
       "Name: clean_movie_title, dtype: object"
      ]
     },
     "execution_count": 131,
     "metadata": {},
     "output_type": "execute_result"
    }
   ],
   "source": [
    "recommend_top5(model_hybrid,\n",
    "            movie,\n",
    "            dataset,\n",
    "            user_id = None,\n",
    "            new_user_feature= rand_user_info)"
   ]
  }
 ],
 "metadata": {
  "kernelspec": {
   "display_name": "Python 3 (ipykernel)",
   "language": "python",
   "name": "python3"
  },
  "language_info": {
   "codemirror_mode": {
    "name": "ipython",
    "version": 3
   },
   "file_extension": ".py",
   "mimetype": "text/x-python",
   "name": "python",
   "nbconvert_exporter": "python",
   "pygments_lexer": "ipython3",
   "version": "3.9.12"
  }
 },
 "nbformat": 4,
 "nbformat_minor": 5
}
