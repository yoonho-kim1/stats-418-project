{
 "cells": [
  {
   "cell_type": "markdown",
   "id": "3e4922f0",
   "metadata": {},
   "source": [
    "### Import Libraries"
   ]
  },
  {
   "cell_type": "code",
   "execution_count": 1,
   "id": "166ce354",
   "metadata": {},
   "outputs": [
    {
     "name": "stderr",
     "output_type": "stream",
     "text": [
      "C:\\Users\\Noah\\anaconda3\\lib\\site-packages\\lightfm\\_lightfm_fast.py:9: UserWarning: LightFM was compiled without OpenMP support. Only a single thread will be used.\n",
      "  warnings.warn(\n"
     ]
    }
   ],
   "source": [
    "import numpy as np\n",
    "import pandas as pd\n",
    "import re\n",
    "import os\n",
    "import pickle\n",
    "from sklearn.preprocessing import LabelEncoder\n",
    "from lightfm.data import Dataset\n",
    "from lightfm import LightFM\n",
    "from lightfm.evaluation import auc_score, precision_at_k\n",
    "from scipy.sparse import csr_matrix, coo_matrix\n",
    "from sklearn.preprocessing import LabelEncoder\n",
    "from tqdm import tqdm \n",
    "import matplotlib.pyplot as plt\n",
    "import seaborn as sns\n",
    "%matplotlib inline"
   ]
  },
  {
   "cell_type": "markdown",
   "id": "6df24717",
   "metadata": {},
   "source": [
    "### Import Data"
   ]
  },
  {
   "cell_type": "code",
   "execution_count": 2,
   "id": "d2748855",
   "metadata": {},
   "outputs": [],
   "source": [
    "new_rating = pd.read_pickle('../assets/final_rating.pkl')"
   ]
  },
  {
   "cell_type": "code",
   "execution_count": 3,
   "id": "7abc7226",
   "metadata": {},
   "outputs": [],
   "source": [
    "movie = pd.read_pickle('../assets/final_movie.pkl')"
   ]
  },
  {
   "cell_type": "code",
   "execution_count": 5,
   "id": "a16175df",
   "metadata": {},
   "outputs": [
    {
     "ename": "SystemError",
     "evalue": "deallocated bytearray object has exported buffers",
     "output_type": "error",
     "traceback": [
      "\u001b[1;31m---------------------------------------------------------------------------\u001b[0m",
      "\u001b[1;31mSystemError\u001b[0m                               Traceback (most recent call last)",
      "\u001b[1;31mSystemError\u001b[0m: deallocated bytearray object has exported buffers"
     ]
    },
    {
     "ename": "MemoryError",
     "evalue": "",
     "output_type": "error",
     "traceback": [
      "\u001b[1;31m---------------------------------------------------------------------------\u001b[0m",
      "\u001b[1;31mMemoryError\u001b[0m                               Traceback (most recent call last)",
      "Input \u001b[1;32mIn [5]\u001b[0m, in \u001b[0;36m<cell line: 1>\u001b[1;34m()\u001b[0m\n\u001b[0;32m      1\u001b[0m \u001b[38;5;28;01mwith\u001b[39;00m \u001b[38;5;28mopen\u001b[39m(\u001b[38;5;124m'\u001b[39m\u001b[38;5;124m../assets/user_movie_interaction.pkl\u001b[39m\u001b[38;5;124m'\u001b[39m, \u001b[38;5;124m'\u001b[39m\u001b[38;5;124mrb\u001b[39m\u001b[38;5;124m'\u001b[39m) \u001b[38;5;28;01mas\u001b[39;00m u:\n\u001b[1;32m----> 2\u001b[0m     user_movie_interaction \u001b[38;5;241m=\u001b[39m \u001b[43mpickle\u001b[49m\u001b[38;5;241;43m.\u001b[39;49m\u001b[43mload\u001b[49m\u001b[43m(\u001b[49m\u001b[43mu\u001b[49m\u001b[43m)\u001b[49m\n",
      "\u001b[1;31mMemoryError\u001b[0m: "
     ]
    }
   ],
   "source": [
    "with open('../assets/user_movie_interaction.pkl', 'rb') as u:\n",
    "    user_movie_interaction = pickle.load(u)"
   ]
  },
  {
   "cell_type": "code",
   "execution_count": 6,
   "id": "613b6b72",
   "metadata": {},
   "outputs": [],
   "source": [
    "with open('../assets/user_feats.pkl', 'rb') as u:\n",
    "    user_feats = pickle.load(u)"
   ]
  },
  {
   "cell_type": "code",
   "execution_count": 7,
   "id": "ad976722",
   "metadata": {},
   "outputs": [],
   "source": [
    "with open('../assets/dataset.pkl', 'rb') as d:\n",
    "    dataset = pickle.load(d)"
   ]
  },
  {
   "cell_type": "code",
   "execution_count": 8,
   "id": "5348d31b",
   "metadata": {},
   "outputs": [
    {
     "ename": "TypeError",
     "evalue": "__randomstate_ctor() takes from 0 to 1 positional arguments but 2 were given",
     "output_type": "error",
     "traceback": [
      "\u001b[1;31m---------------------------------------------------------------------------\u001b[0m",
      "\u001b[1;31mTypeError\u001b[0m                                 Traceback (most recent call last)",
      "Input \u001b[1;32mIn [8]\u001b[0m, in \u001b[0;36m<cell line: 1>\u001b[1;34m()\u001b[0m\n\u001b[0;32m      1\u001b[0m \u001b[38;5;28;01mwith\u001b[39;00m \u001b[38;5;28mopen\u001b[39m(\u001b[38;5;124m'\u001b[39m\u001b[38;5;124m../assets/model.pkl\u001b[39m\u001b[38;5;124m'\u001b[39m, \u001b[38;5;124m'\u001b[39m\u001b[38;5;124mrb\u001b[39m\u001b[38;5;124m'\u001b[39m) \u001b[38;5;28;01mas\u001b[39;00m m:\n\u001b[1;32m----> 2\u001b[0m     model \u001b[38;5;241m=\u001b[39m \u001b[43mpickle\u001b[49m\u001b[38;5;241;43m.\u001b[39;49m\u001b[43mload\u001b[49m\u001b[43m(\u001b[49m\u001b[43mm\u001b[49m\u001b[43m)\u001b[49m\n",
      "\u001b[1;31mTypeError\u001b[0m: __randomstate_ctor() takes from 0 to 1 positional arguments but 2 were given"
     ]
    }
   ],
   "source": [
    "with open('../assets/model.pkl', 'rb') as m:\n",
    "    model = pickle.load(m)"
   ]
  },
  {
   "cell_type": "code",
   "execution_count": 17,
   "id": "09f7d2a0",
   "metadata": {},
   "outputs": [],
   "source": [
    "with open('../assets/user_movie_csr.pkl', 'rb') as u:\n",
    "    user_movie_csr = pickle.load(u)"
   ]
  },
  {
   "cell_type": "code",
   "execution_count": 15,
   "id": "0411568a",
   "metadata": {},
   "outputs": [],
   "source": [
    "n_users, n_items = user_movie_interaction.shape"
   ]
  },
  {
   "cell_type": "code",
   "execution_count": 22,
   "id": "3f4e4a0f",
   "metadata": {},
   "outputs": [],
   "source": [
    "unique_genre = sorted(set(map(lambda genre: \\\n",
    "                                  genre.strip(),','.join(map(lambda genre: str(genre), movie['new_genres'].values))\\\n",
    "                                  .split(','))))"
   ]
  },
  {
   "cell_type": "markdown",
   "id": "7055c8a0",
   "metadata": {},
   "source": [
    "### Helper"
   ]
  },
  {
   "cell_type": "code",
   "execution_count": 24,
   "id": "549396e9",
   "metadata": {},
   "outputs": [],
   "source": [
    "def recommend_top5(model, movie, dataset, user_id=None, new_user_feature=None, k=5):\n",
    "    \n",
    "    nmovie=movie.set_index('movieId')\n",
    "    \n",
    "    max_user_id = max(new_rating.userId)\n",
    "    if user_id is None:\n",
    "        user_id = max_user_id +1\n",
    "    if user_id > max_user_id:\n",
    "        for genre in unique_genre:\n",
    "            if genre not in list(new_user_feature.keys()):\n",
    "                new_user_feature[genre] = 0\n",
    "        dataset.fit_partial(users=[user_id],user_features=unique_genre)\n",
    "        new_user_feature = [user_id,new_user_feature]\n",
    "        new_user_feature = dataset.build_user_features([new_user_feature],normalize=False)\n",
    "\n",
    "    user_id_map = dataset.mapping()[0][user_id] \n",
    "    scores = model.predict(user_id_map, np.arange(n_items),user_features=new_user_feature)\n",
    "    rank = np.argsort(-scores)\n",
    "    selected_movie_id =np.array(list(dataset.mapping()[2].keys()))[rank]\n",
    "    top_items = nmovie.loc[selected_movie_id]\n",
    "\n",
    "        \n",
    "    return top_items['clean_movie_title'][:k]"
   ]
  },
  {
   "cell_type": "code",
   "execution_count": 31,
   "id": "1c9cc0fa",
   "metadata": {},
   "outputs": [],
   "source": [
    "def create_random_user_info(user_id = None):\n",
    "    \n",
    "    \"\"\"This function will create random user information regarding their genre and interests.\n",
    "    Input: \n",
    "    user_id (None): If None, then we assume this is a new user.\n",
    "                    If we specify the user information, then it will overwrite their previous information.\n",
    "    unique_genre (list): contains unique genre in the dataset. \n",
    "                           \n",
    "    Output:\n",
    "    user_info_dict (dict): It will contain user information regarding the genres and their interests.\n",
    "    \"\"\"\n",
    "    \n",
    "    # create an empty dictionary to save the results\n",
    "    user_info_dict = {}\n",
    "    \n",
    "    for genre in unique_genre:\n",
    "        rand_score = round(np.random.rand(1)[0], 4)\n",
    "        user_info_dict[genre] = rand_score\n",
    "        \n",
    "    return user_info_dict"
   ]
  },
  {
   "cell_type": "code",
   "execution_count": 25,
   "id": "58395d63",
   "metadata": {},
   "outputs": [
    {
     "data": {
      "text/plain": [
       "movieId\n",
       "59838         Chato's Land\n",
       "53189       Eagle vs Shark\n",
       "32172     Lackawanna Blues\n",
       "126022         Act Da Fool\n",
       "119798               Final\n",
       "Name: clean_movie_title, dtype: object"
      ]
     },
     "execution_count": 25,
     "metadata": {},
     "output_type": "execute_result"
    }
   ],
   "source": [
    "recommend_top5(model,\n",
    "            movie,\n",
    "            dataset,\n",
    "            user_id = 2)"
   ]
  },
  {
   "cell_type": "code",
   "execution_count": 26,
   "id": "f60d818e",
   "metadata": {},
   "outputs": [
    {
     "data": {
      "text/plain": [
       "movieId\n",
       "59838                        Chato's Land\n",
       "53189                      Eagle vs Shark\n",
       "32172                    Lackawanna Blues\n",
       "126022                        Act Da Fool\n",
       "36436     Holy Girl, The (Niña santa, La)\n",
       "Name: clean_movie_title, dtype: object"
      ]
     },
     "execution_count": 26,
     "metadata": {},
     "output_type": "execute_result"
    }
   ],
   "source": [
    "recommend_top5(model,\n",
    "            movie,\n",
    "            dataset,\n",
    "            user_id = None,\n",
    "            new_user_feature= {'Comedy':1, 'Mystery': 0.5, 'Adventure':0.8})"
   ]
  },
  {
   "cell_type": "code",
   "execution_count": 28,
   "id": "a17766fd",
   "metadata": {},
   "outputs": [
    {
     "data": {
      "text/plain": [
       "movieId\n",
       "59838                        Chato's Land\n",
       "53189                      Eagle vs Shark\n",
       "32172                    Lackawanna Blues\n",
       "126022                        Act Da Fool\n",
       "36436     Holy Girl, The (Niña santa, La)\n",
       "Name: clean_movie_title, dtype: object"
      ]
     },
     "execution_count": 28,
     "metadata": {},
     "output_type": "execute_result"
    }
   ],
   "source": [
    "recommend_top5(model,\n",
    "            movie,\n",
    "            dataset,\n",
    "            user_id = None,\n",
    "            new_user_feature= {'Comedy':0.6, 'Mystery': 0.5, 'Adventure':0.8})"
   ]
  },
  {
   "cell_type": "code",
   "execution_count": 35,
   "id": "8feba24c",
   "metadata": {},
   "outputs": [
    {
     "data": {
      "text/plain": [
       "movieId\n",
       "59838            Chato's Land\n",
       "32172        Lackawanna Blues\n",
       "126022            Act Da Fool\n",
       "53189          Eagle vs Shark\n",
       "86436     Crimson Kimono, The\n",
       "Name: clean_movie_title, dtype: object"
      ]
     },
     "execution_count": 35,
     "metadata": {},
     "output_type": "execute_result"
    }
   ],
   "source": [
    "recommend_top5(model,\n",
    "            movie,\n",
    "            dataset,\n",
    "            user_id = None,\n",
    "            new_user_feature= rand_user_info1)"
   ]
  },
  {
   "cell_type": "code",
   "execution_count": 39,
   "id": "4b955bf1",
   "metadata": {},
   "outputs": [
    {
     "data": {
      "text/plain": [
       "movieId\n",
       "59838                                 Chato's Land\n",
       "126022                                 Act Da Fool\n",
       "91991                                 First Family\n",
       "53189                               Eagle vs Shark\n",
       "1223      Grand Day Out with Wallace and Gromit, A\n",
       "Name: clean_movie_title, dtype: object"
      ]
     },
     "execution_count": 39,
     "metadata": {},
     "output_type": "execute_result"
    }
   ],
   "source": [
    "recommend_top5(model,\n",
    "            movie,\n",
    "            dataset,\n",
    "            user_id = None,\n",
    "            new_user_feature= rand_user_info2)"
   ]
  },
  {
   "cell_type": "code",
   "execution_count": 33,
   "id": "d7134d3e",
   "metadata": {},
   "outputs": [],
   "source": [
    "rand_user_info1 = create_random_user_info()"
   ]
  },
  {
   "cell_type": "code",
   "execution_count": 34,
   "id": "fa7fbd6d",
   "metadata": {},
   "outputs": [],
   "source": [
    "rand_user_info2 = create_random_user_info()"
   ]
  }
 ],
 "metadata": {
  "kernelspec": {
   "display_name": "Python 3 (ipykernel)",
   "language": "python",
   "name": "python3"
  },
  "language_info": {
   "codemirror_mode": {
    "name": "ipython",
    "version": 3
   },
   "file_extension": ".py",
   "mimetype": "text/x-python",
   "name": "python",
   "nbconvert_exporter": "python",
   "pygments_lexer": "ipython3",
   "version": "3.9.12"
  }
 },
 "nbformat": 4,
 "nbformat_minor": 5
}
