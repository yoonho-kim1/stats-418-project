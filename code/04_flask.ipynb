{
 "cells": [
  {
   "cell_type": "code",
   "execution_count": 1,
   "id": "3ac3a51c",
   "metadata": {},
   "outputs": [],
   "source": [
    "import pandas as pd\n",
    "import numpy as np\n",
    "from flask import Flask\n",
    "from flask import request\n",
    "from flask import escape\n",
    "from flask import render_template\n",
    "import os\n",
    "#import <python file> function that will output the movie"
   ]
  },
  {
   "cell_type": "code",
   "execution_count": null,
   "id": "b0c6c055",
   "metadata": {
    "lines_to_next_cell": 0,
    "scrolled": true
   },
   "outputs": [
    {
     "name": "stdout",
     "output_type": "stream",
     "text": [
      " * Serving Flask app \"__main__\" (lazy loading)\n",
      " * Environment: production\n",
      "\u001b[31m   WARNING: This is a development server. Do not use it in a production deployment.\u001b[0m\n",
      "\u001b[2m   Use a production WSGI server instead.\u001b[0m\n",
      " * Debug mode: off\n"
     ]
    },
    {
     "name": "stderr",
     "output_type": "stream",
     "text": [
      " * Running on http://localhost:5000/ (Press CTRL+C to quit)\n",
      "127.0.0.1 - - [07/Mar/2023 14:02:30] \"GET / HTTP/1.1\" 200 -\n",
      "127.0.0.1 - - [07/Mar/2023 14:02:30] \"GET /favicon.ico HTTP/1.1\" 200 -\n",
      "127.0.0.1 - - [07/Mar/2023 14:02:32] \"GET /dashboard HTTP/1.1\" 200 -\n",
      "127.0.0.1 - - [07/Mar/2023 14:02:32] \"GET /favicon.ico HTTP/1.1\" 200 -\n",
      "127.0.0.1 - - [07/Mar/2023 14:02:33] \"GET /favicon.ico HTTP/1.1\" 200 -\n",
      "127.0.0.1 - - [07/Mar/2023 14:02:34] \"GET /modeling HTTP/1.1\" 200 -\n",
      "127.0.0.1 - - [07/Mar/2023 14:02:34] \"GET /favicon.ico HTTP/1.1\" 200 -\n",
      "127.0.0.1 - - [07/Mar/2023 14:02:35] \"GET /favicon.ico HTTP/1.1\" 200 -\n"
     ]
    }
   ],
   "source": [
    "app = Flask(__name__, template_folder = 'templates', static_folder = 'static')\n",
    "\n",
    "@app.route('/')\n",
    "def homepage():\n",
    "    return render_template('index.html')\n",
    "\n",
    "@app.route('/<input_movie>', methods=['GET'])\n",
    "def recommend_movies(input_movie):\n",
    "    return f\"We love {escape(input_movie)}!\"\n",
    "\n",
    "@app.route('/dashboard')\n",
    "def dashboard():\n",
    "    return render_template('dashboard.html')\n",
    "\n",
    "@app.route('/modeling')\n",
    "def modeling():\n",
    "    return render_template('modeling.html')\n",
    "\n",
    "\n",
    "\n",
    "if __name__=='__main__':\n",
    "    app.run(host = 'localhost')"
   ]
  },
  {
   "cell_type": "code",
   "execution_count": null,
   "id": "a0ffcd2f",
   "metadata": {
    "lines_to_next_cell": 2
   },
   "outputs": [],
   "source": []
  }
 ],
 "metadata": {
  "jupytext": {
   "cell_metadata_filter": "-all",
   "notebook_metadata_filter": "-all"
  },
  "kernelspec": {
   "display_name": "Python 3 (ipykernel)",
   "language": "python",
   "name": "python3"
  },
  "language_info": {
   "codemirror_mode": {
    "name": "ipython",
    "version": 3
   },
   "file_extension": ".py",
   "mimetype": "text/x-python",
   "name": "python",
   "nbconvert_exporter": "python",
   "pygments_lexer": "ipython3",
   "version": "3.9.12"
  }
 },
 "nbformat": 4,
 "nbformat_minor": 5
}
