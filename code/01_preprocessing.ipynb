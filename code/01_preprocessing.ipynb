{
 "cells": [
  {
   "cell_type": "markdown",
   "id": "c3f2bee1",
   "metadata": {},
   "source": [
    "### Install Required Libraries"
   ]
  },
  {
   "cell_type": "code",
   "execution_count": 287,
   "id": "217ef6d2",
   "metadata": {},
   "outputs": [],
   "source": [
    "#!pip install pandas numpy scikit-learn lightfm tqdm"
   ]
  },
  {
   "cell_type": "markdown",
   "id": "4b0c9ad4",
   "metadata": {},
   "source": [
    "### Import Libraries"
   ]
  },
  {
   "cell_type": "code",
   "execution_count": 288,
   "id": "c707def5",
   "metadata": {},
   "outputs": [],
   "source": [
    "import pandas as pd\n",
    "import numpy as np\n",
    "import os\n",
    "import re\n",
    "import csv\n",
    "import ast\n",
    "import pickle\n",
    "from sklearn.feature_extraction.text import CountVectorizer\n",
    "pd.set_option('display.max_columns', None)"
   ]
  },
  {
   "cell_type": "markdown",
   "id": "16e8e9e6",
   "metadata": {},
   "source": [
    "### Helper"
   ]
  },
  {
   "cell_type": "code",
   "execution_count": 289,
   "id": "fcb31ec9",
   "metadata": {},
   "outputs": [],
   "source": [
    "def create_folder(path):\n",
    "    \"\"\"Creates a path within the working directory\n",
    "    Input: path (str) -> specify the working directory\n",
    "    Output -> path will be created if not existed\n",
    "    \"\"\"\n",
    "    try: \n",
    "        os.mkdir(path) \n",
    "    except OSError as error: \n",
    "        print(error)  "
   ]
  },
  {
   "cell_type": "code",
   "execution_count": 290,
   "id": "e92a19c6",
   "metadata": {},
   "outputs": [],
   "source": [
    "def parse_genre(data):\n",
    "    \n",
    "    \"\"\"parsing genre from list to string\n",
    "    Input:  data -> dataframe (the original dataframe)\n",
    "    Output: data -> dataframe (after the parsing, which contains genres as string rather than lists)\"\"\"\n",
    "    \n",
    "    # get the total rows\n",
    "    rows = len(data)\n",
    "    \n",
    "    # create a list for genre\n",
    "    genre_list = []\n",
    "        \n",
    "    for row in range(rows):\n",
    "        to_dict = ast.literal_eval(data['genres'][row])\n",
    "        \n",
    "        dict_len = len(to_dict)\n",
    "        sub_list = []\n",
    "        if dict_len > 0:\n",
    "            for i in range(dict_len):\n",
    "                target = to_dict[i]\n",
    "                genre = target['name']\n",
    "                sub_list.append(genre)\n",
    "        else:\n",
    "            genre = 'genre_not_specified'\n",
    "            sub_list.append(genre)\n",
    "        genre_list.append(sub_list)\n",
    "    data.loc[:, 'parsed_genre'] = genre_list\n",
    "    \n",
    "    return data"
   ]
  },
  {
   "cell_type": "markdown",
   "id": "1c638110",
   "metadata": {},
   "source": [
    "- assets"
   ]
  },
  {
   "cell_type": "code",
   "execution_count": 291,
   "id": "00000737",
   "metadata": {},
   "outputs": [],
   "source": [
    "asset_path = '../assets'\n",
    "data_path = '../data'"
   ]
  },
  {
   "cell_type": "code",
   "execution_count": 292,
   "id": "385042d8",
   "metadata": {},
   "outputs": [
    {
     "name": "stdout",
     "output_type": "stream",
     "text": [
      "[Errno 17] File exists: '../assets'\n",
      "[Errno 17] File exists: '../data'\n"
     ]
    }
   ],
   "source": [
    "create_folder(asset_path)\n",
    "create_folder(data_path)"
   ]
  },
  {
   "cell_type": "markdown",
   "id": "8017f23f",
   "metadata": {},
   "source": [
    "### Import data"
   ]
  },
  {
   "cell_type": "code",
   "execution_count": 293,
   "id": "0d16305c",
   "metadata": {},
   "outputs": [],
   "source": [
    "movie_path = '../data/movies_metadata.csv'\n",
    "rating_path = '../data/ratings.csv'"
   ]
  },
  {
   "cell_type": "code",
   "execution_count": 294,
   "id": "e090f04a",
   "metadata": {},
   "outputs": [
    {
     "name": "stderr",
     "output_type": "stream",
     "text": [
      "/var/folders/t9/5hgq421x4xsgvkp8nd2kx4fw0000gn/T/ipykernel_12431/176547587.py:1: DtypeWarning: Columns (10) have mixed types. Specify dtype option on import or set low_memory=False.\n",
      "  movie = pd.read_csv(movie_path)\n"
     ]
    }
   ],
   "source": [
    "movie = pd.read_csv(movie_path)\n",
    "rating = pd.read_csv(rating_path)"
   ]
  },
  {
   "cell_type": "markdown",
   "id": "d26cb6af",
   "metadata": {},
   "source": [
    "### Quick check"
   ]
  },
  {
   "cell_type": "code",
   "execution_count": 295,
   "id": "e5104b66",
   "metadata": {},
   "outputs": [
    {
     "name": "stdout",
     "output_type": "stream",
     "text": [
      "<class 'pandas.core.frame.DataFrame'>\n",
      "RangeIndex: 45466 entries, 0 to 45465\n",
      "Data columns (total 24 columns):\n",
      " #   Column                 Non-Null Count  Dtype  \n",
      "---  ------                 --------------  -----  \n",
      " 0   adult                  45466 non-null  object \n",
      " 1   belongs_to_collection  4494 non-null   object \n",
      " 2   budget                 45466 non-null  object \n",
      " 3   genres                 45466 non-null  object \n",
      " 4   homepage               7782 non-null   object \n",
      " 5   id                     45466 non-null  object \n",
      " 6   imdb_id                45449 non-null  object \n",
      " 7   original_language      45455 non-null  object \n",
      " 8   original_title         45466 non-null  object \n",
      " 9   overview               44512 non-null  object \n",
      " 10  popularity             45461 non-null  object \n",
      " 11  poster_path            45080 non-null  object \n",
      " 12  production_companies   45463 non-null  object \n",
      " 13  production_countries   45463 non-null  object \n",
      " 14  release_date           45379 non-null  object \n",
      " 15  revenue                45460 non-null  float64\n",
      " 16  runtime                45203 non-null  float64\n",
      " 17  spoken_languages       45460 non-null  object \n",
      " 18  status                 45379 non-null  object \n",
      " 19  tagline                20412 non-null  object \n",
      " 20  title                  45460 non-null  object \n",
      " 21  video                  45460 non-null  object \n",
      " 22  vote_average           45460 non-null  float64\n",
      " 23  vote_count             45460 non-null  float64\n",
      "dtypes: float64(4), object(20)\n",
      "memory usage: 8.3+ MB\n"
     ]
    }
   ],
   "source": [
    "movie.info()"
   ]
  },
  {
   "cell_type": "code",
   "execution_count": 296,
   "id": "1885b7b3",
   "metadata": {},
   "outputs": [
    {
     "name": "stdout",
     "output_type": "stream",
     "text": [
      "<class 'pandas.core.frame.DataFrame'>\n",
      "RangeIndex: 26024289 entries, 0 to 26024288\n",
      "Data columns (total 4 columns):\n",
      " #   Column     Dtype  \n",
      "---  ------     -----  \n",
      " 0   userId     int64  \n",
      " 1   movieId    int64  \n",
      " 2   rating     float64\n",
      " 3   timestamp  int64  \n",
      "dtypes: float64(1), int64(3)\n",
      "memory usage: 794.2 MB\n"
     ]
    }
   ],
   "source": [
    "rating.info()"
   ]
  },
  {
   "cell_type": "markdown",
   "id": "cc50faea",
   "metadata": {},
   "source": [
    "- check unique values"
   ]
  },
  {
   "cell_type": "code",
   "execution_count": 297,
   "id": "2bf7fd28",
   "metadata": {},
   "outputs": [
    {
     "name": "stdout",
     "output_type": "stream",
     "text": [
      "In the movie dataset, there are 45436 unique movies.\n"
     ]
    }
   ],
   "source": [
    "print(f\"In the movie dataset, there are {movie.id.nunique()} unique movies.\")"
   ]
  },
  {
   "cell_type": "code",
   "execution_count": 298,
   "id": "9b2eb896",
   "metadata": {},
   "outputs": [
    {
     "name": "stdout",
     "output_type": "stream",
     "text": [
      "In the rating dataset, there are 270896 unique users.\n",
      "In the rating dataset, 45115 movies were rated by various users.\n"
     ]
    }
   ],
   "source": [
    "print(f\"In the rating dataset, there are {rating.userId.nunique()} unique users.\")\n",
    "print(f\"In the rating dataset, {rating.movieId.nunique()} movies were rated by various users.\")"
   ]
  },
  {
   "cell_type": "markdown",
   "id": "8558acbb",
   "metadata": {},
   "source": [
    "### Data Transformation"
   ]
  },
  {
   "cell_type": "markdown",
   "id": "900b77a9",
   "metadata": {},
   "source": [
    "#### Movie"
   ]
  },
  {
   "cell_type": "markdown",
   "id": "0eadb4a4",
   "metadata": {},
   "source": [
    "Select dataframes so that we can create item-user info."
   ]
  },
  {
   "cell_type": "code",
   "execution_count": 299,
   "id": "4ff0b9b9",
   "metadata": {},
   "outputs": [
    {
     "data": {
      "text/plain": [
       "Index(['adult', 'belongs_to_collection', 'budget', 'genres', 'homepage', 'id',\n",
       "       'imdb_id', 'original_language', 'original_title', 'overview',\n",
       "       'popularity', 'poster_path', 'production_companies',\n",
       "       'production_countries', 'release_date', 'revenue', 'runtime',\n",
       "       'spoken_languages', 'status', 'tagline', 'title', 'video',\n",
       "       'vote_average', 'vote_count'],\n",
       "      dtype='object')"
      ]
     },
     "execution_count": 299,
     "metadata": {},
     "output_type": "execute_result"
    }
   ],
   "source": [
    "movie.columns"
   ]
  },
  {
   "cell_type": "markdown",
   "id": "bdb18c56",
   "metadata": {},
   "source": [
    "- selecting features"
   ]
  },
  {
   "cell_type": "code",
   "execution_count": 300,
   "id": "4909e78a",
   "metadata": {},
   "outputs": [],
   "source": [
    "new_movie = movie[['adult', 'budget', 'genres', 'id', 'original_title', 'overview', 'popularity', 'revenue', 'runtime']]"
   ]
  },
  {
   "cell_type": "code",
   "execution_count": 301,
   "id": "c7aec36e",
   "metadata": {},
   "outputs": [
    {
     "data": {
      "text/html": [
       "<div>\n",
       "<style scoped>\n",
       "    .dataframe tbody tr th:only-of-type {\n",
       "        vertical-align: middle;\n",
       "    }\n",
       "\n",
       "    .dataframe tbody tr th {\n",
       "        vertical-align: top;\n",
       "    }\n",
       "\n",
       "    .dataframe thead th {\n",
       "        text-align: right;\n",
       "    }\n",
       "</style>\n",
       "<table border=\"1\" class=\"dataframe\">\n",
       "  <thead>\n",
       "    <tr style=\"text-align: right;\">\n",
       "      <th></th>\n",
       "      <th>adult</th>\n",
       "      <th>budget</th>\n",
       "      <th>genres</th>\n",
       "      <th>id</th>\n",
       "      <th>original_title</th>\n",
       "      <th>overview</th>\n",
       "      <th>popularity</th>\n",
       "      <th>revenue</th>\n",
       "      <th>runtime</th>\n",
       "    </tr>\n",
       "  </thead>\n",
       "  <tbody>\n",
       "    <tr>\n",
       "      <th>0</th>\n",
       "      <td>False</td>\n",
       "      <td>30000000</td>\n",
       "      <td>[{'id': 16, 'name': 'Animation'}, {'id': 35, '...</td>\n",
       "      <td>862</td>\n",
       "      <td>Toy Story</td>\n",
       "      <td>Led by Woody, Andy's toys live happily in his ...</td>\n",
       "      <td>21.946943</td>\n",
       "      <td>373554033.0</td>\n",
       "      <td>81.0</td>\n",
       "    </tr>\n",
       "    <tr>\n",
       "      <th>1</th>\n",
       "      <td>False</td>\n",
       "      <td>65000000</td>\n",
       "      <td>[{'id': 12, 'name': 'Adventure'}, {'id': 14, '...</td>\n",
       "      <td>8844</td>\n",
       "      <td>Jumanji</td>\n",
       "      <td>When siblings Judy and Peter discover an encha...</td>\n",
       "      <td>17.015539</td>\n",
       "      <td>262797249.0</td>\n",
       "      <td>104.0</td>\n",
       "    </tr>\n",
       "    <tr>\n",
       "      <th>2</th>\n",
       "      <td>False</td>\n",
       "      <td>0</td>\n",
       "      <td>[{'id': 10749, 'name': 'Romance'}, {'id': 35, ...</td>\n",
       "      <td>15602</td>\n",
       "      <td>Grumpier Old Men</td>\n",
       "      <td>A family wedding reignites the ancient feud be...</td>\n",
       "      <td>11.7129</td>\n",
       "      <td>0.0</td>\n",
       "      <td>101.0</td>\n",
       "    </tr>\n",
       "    <tr>\n",
       "      <th>3</th>\n",
       "      <td>False</td>\n",
       "      <td>16000000</td>\n",
       "      <td>[{'id': 35, 'name': 'Comedy'}, {'id': 18, 'nam...</td>\n",
       "      <td>31357</td>\n",
       "      <td>Waiting to Exhale</td>\n",
       "      <td>Cheated on, mistreated and stepped on, the wom...</td>\n",
       "      <td>3.859495</td>\n",
       "      <td>81452156.0</td>\n",
       "      <td>127.0</td>\n",
       "    </tr>\n",
       "    <tr>\n",
       "      <th>4</th>\n",
       "      <td>False</td>\n",
       "      <td>0</td>\n",
       "      <td>[{'id': 35, 'name': 'Comedy'}]</td>\n",
       "      <td>11862</td>\n",
       "      <td>Father of the Bride Part II</td>\n",
       "      <td>Just when George Banks has recovered from his ...</td>\n",
       "      <td>8.387519</td>\n",
       "      <td>76578911.0</td>\n",
       "      <td>106.0</td>\n",
       "    </tr>\n",
       "  </tbody>\n",
       "</table>\n",
       "</div>"
      ],
      "text/plain": [
       "   adult    budget                                             genres     id  \\\n",
       "0  False  30000000  [{'id': 16, 'name': 'Animation'}, {'id': 35, '...    862   \n",
       "1  False  65000000  [{'id': 12, 'name': 'Adventure'}, {'id': 14, '...   8844   \n",
       "2  False         0  [{'id': 10749, 'name': 'Romance'}, {'id': 35, ...  15602   \n",
       "3  False  16000000  [{'id': 35, 'name': 'Comedy'}, {'id': 18, 'nam...  31357   \n",
       "4  False         0                     [{'id': 35, 'name': 'Comedy'}]  11862   \n",
       "\n",
       "                original_title  \\\n",
       "0                    Toy Story   \n",
       "1                      Jumanji   \n",
       "2             Grumpier Old Men   \n",
       "3            Waiting to Exhale   \n",
       "4  Father of the Bride Part II   \n",
       "\n",
       "                                            overview popularity      revenue  \\\n",
       "0  Led by Woody, Andy's toys live happily in his ...  21.946943  373554033.0   \n",
       "1  When siblings Judy and Peter discover an encha...  17.015539  262797249.0   \n",
       "2  A family wedding reignites the ancient feud be...    11.7129          0.0   \n",
       "3  Cheated on, mistreated and stepped on, the wom...   3.859495   81452156.0   \n",
       "4  Just when George Banks has recovered from his ...   8.387519   76578911.0   \n",
       "\n",
       "   runtime  \n",
       "0     81.0  \n",
       "1    104.0  \n",
       "2    101.0  \n",
       "3    127.0  \n",
       "4    106.0  "
      ]
     },
     "execution_count": 301,
     "metadata": {},
     "output_type": "execute_result"
    }
   ],
   "source": [
    "new_movie.head()"
   ]
  },
  {
   "cell_type": "markdown",
   "id": "223f5d4f",
   "metadata": {},
   "source": [
    "re selecting columns based on our needs"
   ]
  },
  {
   "cell_type": "markdown",
   "id": "c1ffd961",
   "metadata": {},
   "source": [
    "- dropping rows"
   ]
  },
  {
   "cell_type": "code",
   "execution_count": 302,
   "id": "00f2e129",
   "metadata": {},
   "outputs": [
    {
     "data": {
      "text/plain": [
       "False                                                                                                                             45454\n",
       "True                                                                                                                                  9\n",
       " - Written by Ørnås                                                                                                                   1\n",
       " Rune Balot goes to a casino connected to the October corporation to try to wrap up her case once and for all.                        1\n",
       " Avalanche Sharks tells the story of a bikini contest that turns into a horrifying affair when it is hit by a shark avalanche.        1\n",
       "Name: adult, dtype: int64"
      ]
     },
     "execution_count": 302,
     "metadata": {},
     "output_type": "execute_result"
    }
   ],
   "source": [
    "new_movie.adult.value_counts()"
   ]
  },
  {
   "cell_type": "code",
   "execution_count": 303,
   "id": "4779a7e1",
   "metadata": {},
   "outputs": [],
   "source": [
    "new_movie = new_movie[new_movie.adult.apply(lambda row: row in ['True', 'False'])]"
   ]
  },
  {
   "cell_type": "markdown",
   "id": "44d75bd2",
   "metadata": {},
   "source": [
    "- dedup"
   ]
  },
  {
   "cell_type": "markdown",
   "id": "1df1fe32",
   "metadata": {},
   "source": [
    "only select unique movies"
   ]
  },
  {
   "cell_type": "code",
   "execution_count": 304,
   "id": "0c47269e",
   "metadata": {},
   "outputs": [],
   "source": [
    "new_movie.drop_duplicates(subset = ['id'], inplace = True)"
   ]
  },
  {
   "cell_type": "code",
   "execution_count": 305,
   "id": "fd7cc1af",
   "metadata": {},
   "outputs": [],
   "source": [
    "new_movie = new_movie.reset_index().drop(columns = 'index')"
   ]
  },
  {
   "cell_type": "markdown",
   "id": "ce66a631",
   "metadata": {},
   "source": [
    "- parsing genre"
   ]
  },
  {
   "cell_type": "code",
   "execution_count": 306,
   "id": "4bbf5fd3",
   "metadata": {},
   "outputs": [],
   "source": [
    "parsed_movie = parse_genre(new_movie)"
   ]
  },
  {
   "cell_type": "code",
   "execution_count": 307,
   "id": "ce3783fe",
   "metadata": {},
   "outputs": [],
   "source": [
    "parsed_movie.loc[:, 'genre_unlisted'] = parsed_movie.parsed_genre.apply(lambda genre: \", \".join(genre))"
   ]
  },
  {
   "cell_type": "code",
   "execution_count": 308,
   "id": "79a76747",
   "metadata": {},
   "outputs": [
    {
     "data": {
      "text/html": [
       "<div>\n",
       "<style scoped>\n",
       "    .dataframe tbody tr th:only-of-type {\n",
       "        vertical-align: middle;\n",
       "    }\n",
       "\n",
       "    .dataframe tbody tr th {\n",
       "        vertical-align: top;\n",
       "    }\n",
       "\n",
       "    .dataframe thead th {\n",
       "        text-align: right;\n",
       "    }\n",
       "</style>\n",
       "<table border=\"1\" class=\"dataframe\">\n",
       "  <thead>\n",
       "    <tr style=\"text-align: right;\">\n",
       "      <th></th>\n",
       "      <th>adult</th>\n",
       "      <th>budget</th>\n",
       "      <th>genres</th>\n",
       "      <th>id</th>\n",
       "      <th>original_title</th>\n",
       "      <th>overview</th>\n",
       "      <th>popularity</th>\n",
       "      <th>revenue</th>\n",
       "      <th>runtime</th>\n",
       "      <th>parsed_genre</th>\n",
       "      <th>genre_unlisted</th>\n",
       "    </tr>\n",
       "  </thead>\n",
       "  <tbody>\n",
       "    <tr>\n",
       "      <th>0</th>\n",
       "      <td>False</td>\n",
       "      <td>30000000</td>\n",
       "      <td>[{'id': 16, 'name': 'Animation'}, {'id': 35, '...</td>\n",
       "      <td>862</td>\n",
       "      <td>Toy Story</td>\n",
       "      <td>Led by Woody, Andy's toys live happily in his ...</td>\n",
       "      <td>21.946943</td>\n",
       "      <td>373554033.0</td>\n",
       "      <td>81.0</td>\n",
       "      <td>[Animation, Comedy, Family]</td>\n",
       "      <td>Animation, Comedy, Family</td>\n",
       "    </tr>\n",
       "    <tr>\n",
       "      <th>1</th>\n",
       "      <td>False</td>\n",
       "      <td>65000000</td>\n",
       "      <td>[{'id': 12, 'name': 'Adventure'}, {'id': 14, '...</td>\n",
       "      <td>8844</td>\n",
       "      <td>Jumanji</td>\n",
       "      <td>When siblings Judy and Peter discover an encha...</td>\n",
       "      <td>17.015539</td>\n",
       "      <td>262797249.0</td>\n",
       "      <td>104.0</td>\n",
       "      <td>[Adventure, Fantasy, Family]</td>\n",
       "      <td>Adventure, Fantasy, Family</td>\n",
       "    </tr>\n",
       "    <tr>\n",
       "      <th>2</th>\n",
       "      <td>False</td>\n",
       "      <td>0</td>\n",
       "      <td>[{'id': 10749, 'name': 'Romance'}, {'id': 35, ...</td>\n",
       "      <td>15602</td>\n",
       "      <td>Grumpier Old Men</td>\n",
       "      <td>A family wedding reignites the ancient feud be...</td>\n",
       "      <td>11.7129</td>\n",
       "      <td>0.0</td>\n",
       "      <td>101.0</td>\n",
       "      <td>[Romance, Comedy]</td>\n",
       "      <td>Romance, Comedy</td>\n",
       "    </tr>\n",
       "    <tr>\n",
       "      <th>3</th>\n",
       "      <td>False</td>\n",
       "      <td>16000000</td>\n",
       "      <td>[{'id': 35, 'name': 'Comedy'}, {'id': 18, 'nam...</td>\n",
       "      <td>31357</td>\n",
       "      <td>Waiting to Exhale</td>\n",
       "      <td>Cheated on, mistreated and stepped on, the wom...</td>\n",
       "      <td>3.859495</td>\n",
       "      <td>81452156.0</td>\n",
       "      <td>127.0</td>\n",
       "      <td>[Comedy, Drama, Romance]</td>\n",
       "      <td>Comedy, Drama, Romance</td>\n",
       "    </tr>\n",
       "    <tr>\n",
       "      <th>4</th>\n",
       "      <td>False</td>\n",
       "      <td>0</td>\n",
       "      <td>[{'id': 35, 'name': 'Comedy'}]</td>\n",
       "      <td>11862</td>\n",
       "      <td>Father of the Bride Part II</td>\n",
       "      <td>Just when George Banks has recovered from his ...</td>\n",
       "      <td>8.387519</td>\n",
       "      <td>76578911.0</td>\n",
       "      <td>106.0</td>\n",
       "      <td>[Comedy]</td>\n",
       "      <td>Comedy</td>\n",
       "    </tr>\n",
       "  </tbody>\n",
       "</table>\n",
       "</div>"
      ],
      "text/plain": [
       "   adult    budget                                             genres     id  \\\n",
       "0  False  30000000  [{'id': 16, 'name': 'Animation'}, {'id': 35, '...    862   \n",
       "1  False  65000000  [{'id': 12, 'name': 'Adventure'}, {'id': 14, '...   8844   \n",
       "2  False         0  [{'id': 10749, 'name': 'Romance'}, {'id': 35, ...  15602   \n",
       "3  False  16000000  [{'id': 35, 'name': 'Comedy'}, {'id': 18, 'nam...  31357   \n",
       "4  False         0                     [{'id': 35, 'name': 'Comedy'}]  11862   \n",
       "\n",
       "                original_title  \\\n",
       "0                    Toy Story   \n",
       "1                      Jumanji   \n",
       "2             Grumpier Old Men   \n",
       "3            Waiting to Exhale   \n",
       "4  Father of the Bride Part II   \n",
       "\n",
       "                                            overview popularity      revenue  \\\n",
       "0  Led by Woody, Andy's toys live happily in his ...  21.946943  373554033.0   \n",
       "1  When siblings Judy and Peter discover an encha...  17.015539  262797249.0   \n",
       "2  A family wedding reignites the ancient feud be...    11.7129          0.0   \n",
       "3  Cheated on, mistreated and stepped on, the wom...   3.859495   81452156.0   \n",
       "4  Just when George Banks has recovered from his ...   8.387519   76578911.0   \n",
       "\n",
       "   runtime                  parsed_genre              genre_unlisted  \n",
       "0     81.0   [Animation, Comedy, Family]   Animation, Comedy, Family  \n",
       "1    104.0  [Adventure, Fantasy, Family]  Adventure, Fantasy, Family  \n",
       "2    101.0             [Romance, Comedy]             Romance, Comedy  \n",
       "3    127.0      [Comedy, Drama, Romance]      Comedy, Drama, Romance  \n",
       "4    106.0                      [Comedy]                      Comedy  "
      ]
     },
     "execution_count": 308,
     "metadata": {},
     "output_type": "execute_result"
    }
   ],
   "source": [
    "parsed_movie.head()"
   ]
  },
  {
   "cell_type": "markdown",
   "id": "daa452a7",
   "metadata": {},
   "source": [
    "- one hot coding for genre"
   ]
  },
  {
   "cell_type": "code",
   "execution_count": 309,
   "id": "62f0cd2f",
   "metadata": {},
   "outputs": [],
   "source": [
    "target = list(parsed_movie.genre_unlisted)"
   ]
  },
  {
   "cell_type": "code",
   "execution_count": 310,
   "id": "53e4df7c",
   "metadata": {},
   "outputs": [],
   "source": [
    "cv = CountVectorizer()\n",
    "genre_to_cv = cv.fit_transform(target)"
   ]
  },
  {
   "cell_type": "code",
   "execution_count": 311,
   "id": "ed1911dc",
   "metadata": {},
   "outputs": [],
   "source": [
    "genre_df = pd.DataFrame(genre_to_cv.toarray(), columns = cv.get_feature_names_out())"
   ]
  },
  {
   "cell_type": "code",
   "execution_count": 312,
   "id": "13dae758",
   "metadata": {},
   "outputs": [],
   "source": [
    "genre_df.loc[:, 'id'] = list(parsed_movie.id)"
   ]
  },
  {
   "cell_type": "markdown",
   "id": "ab813b6b",
   "metadata": {},
   "source": [
    "#### Rating"
   ]
  },
  {
   "cell_type": "markdown",
   "id": "fed0cc3a",
   "metadata": {},
   "source": [
    "- filter rows"
   ]
  },
  {
   "cell_type": "markdown",
   "id": "1db0c686",
   "metadata": {},
   "source": [
    "### Join the dataset"
   ]
  },
  {
   "cell_type": "markdown",
   "id": "7f68b9b3",
   "metadata": {},
   "source": [
    "join the datasets together to get user-item information"
   ]
  },
  {
   "cell_type": "markdown",
   "id": "e2c41367",
   "metadata": {},
   "source": [
    "convert movieId as string to join together"
   ]
  },
  {
   "cell_type": "code",
   "execution_count": 313,
   "id": "e0587c45",
   "metadata": {},
   "outputs": [],
   "source": [
    "rating.loc[:, 'movieId'] = rating.movieId.apply(lambda ID: str(ID))"
   ]
  },
  {
   "cell_type": "markdown",
   "id": "49987eb9",
   "metadata": {},
   "source": [
    "genre one hot code and movie info"
   ]
  },
  {
   "cell_type": "code",
   "execution_count": 314,
   "id": "acd3215e",
   "metadata": {},
   "outputs": [],
   "source": [
    "new_genre = pd.merge(left = new_movie[['adult', 'budget', 'genres', 'id', 'original_title', 'overview','popularity', 'revenue', 'runtime']],\n",
    "                     right = genre_df,\n",
    "                     left_on = ['id'],\n",
    "                     right_on = ['id'])"
   ]
  },
  {
   "cell_type": "code",
   "execution_count": 315,
   "id": "a47364f3",
   "metadata": {},
   "outputs": [],
   "source": [
    "joined_df = pd.merge(left = new_genre,\n",
    "         right = rating[['userId', 'movieId', 'rating']],\n",
    "         left_on = ['id'],\n",
    "         right_on = ['movieId'],\n",
    "         how = 'left')"
   ]
  },
  {
   "cell_type": "markdown",
   "id": "54f591dc",
   "metadata": {},
   "source": [
    "- check"
   ]
  },
  {
   "cell_type": "code",
   "execution_count": 316,
   "id": "691c39d1",
   "metadata": {},
   "outputs": [
    {
     "data": {
      "text/plain": [
       "True"
      ]
     },
     "execution_count": 316,
     "metadata": {},
     "output_type": "execute_result"
    }
   ],
   "source": [
    "joined_df.id.nunique() == new_movie.id.nunique()"
   ]
  },
  {
   "cell_type": "markdown",
   "id": "19c664bf",
   "metadata": {},
   "source": [
    "number of unique id should match when joining the datsets"
   ]
  },
  {
   "cell_type": "markdown",
   "id": "b53bf6f7",
   "metadata": {},
   "source": [
    "### Export the dataset"
   ]
  },
  {
   "cell_type": "code",
   "execution_count": 317,
   "id": "67097a37",
   "metadata": {},
   "outputs": [],
   "source": [
    "movie_pkl = '../assets/movie.pkl'\n",
    "rating_pkl = '../assets/rating.pkl'\n",
    "joined_df_pkl = '../assets/df.pkl'"
   ]
  },
  {
   "cell_type": "code",
   "execution_count": 318,
   "id": "a983aa6c",
   "metadata": {},
   "outputs": [],
   "source": [
    "with open(movie_pkl, 'wb') as m:\n",
    "    pickle.dump(new_genre, m)"
   ]
  },
  {
   "cell_type": "code",
   "execution_count": 319,
   "id": "67bf6431",
   "metadata": {},
   "outputs": [],
   "source": [
    "with open(rating_pkl, 'wb') as r:\n",
    "    pickle.dump(rating, r)"
   ]
  },
  {
   "cell_type": "code",
   "execution_count": 320,
   "id": "c96e1103",
   "metadata": {},
   "outputs": [],
   "source": [
    "with open(joined_df_pkl, 'wb') as r:\n",
    "    pickle.dump(joined_df, r)"
   ]
  }
 ],
 "metadata": {
  "kernelspec": {
   "display_name": "lightfm",
   "language": "python",
   "name": "lightfm"
  },
  "language_info": {
   "codemirror_mode": {
    "name": "ipython",
    "version": 3
   },
   "file_extension": ".py",
   "mimetype": "text/x-python",
   "name": "python",
   "nbconvert_exporter": "python",
   "pygments_lexer": "ipython3",
   "version": "3.9.0"
  }
 },
 "nbformat": 4,
 "nbformat_minor": 5
}
