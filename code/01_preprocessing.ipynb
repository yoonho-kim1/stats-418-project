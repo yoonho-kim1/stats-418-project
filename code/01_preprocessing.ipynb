{
 "cells": [
  {
   "cell_type": "markdown",
   "id": "c3f2bee1",
   "metadata": {},
   "source": [
    "### Install Required Libraries"
   ]
  },
  {
   "cell_type": "code",
   "execution_count": 1,
   "id": "217ef6d2",
   "metadata": {},
   "outputs": [],
   "source": [
    "#!pip install pandas numpy scikit-learn lightfm tqdm matplotlib seaborn scipy"
   ]
  },
  {
   "cell_type": "markdown",
   "id": "4b0c9ad4",
   "metadata": {},
   "source": [
    "### Import Libraries"
   ]
  },
  {
   "cell_type": "code",
   "execution_count": 2,
   "id": "c707def5",
   "metadata": {},
   "outputs": [],
   "source": [
    "import pandas as pd\n",
    "import numpy as np\n",
    "import os\n",
    "import re\n",
    "import csv\n",
    "import ast\n",
    "import pickle\n",
    "from datetime import datetime\n",
    "from sklearn.feature_extraction.text import CountVectorizer\n",
    "pd.set_option('display.max_columns', None)"
   ]
  },
  {
   "cell_type": "markdown",
   "id": "16e8e9e6",
   "metadata": {},
   "source": [
    "### Helper"
   ]
  },
  {
   "cell_type": "code",
   "execution_count": 3,
   "id": "fcb31ec9",
   "metadata": {},
   "outputs": [],
   "source": [
    "def create_folder(path):\n",
    "    \"\"\"Creates a path within the working directory\n",
    "    Input: path (str) -> specify the working directory\n",
    "    Output -> path will be created if not existed\n",
    "    \"\"\"\n",
    "    try: \n",
    "        os.mkdir(path) \n",
    "    except OSError as error: \n",
    "        print(error)  "
   ]
  },
  {
   "cell_type": "code",
   "execution_count": 4,
   "id": "2677bcd0",
   "metadata": {},
   "outputs": [],
   "source": [
    "def extract_year(movie_year):\n",
    "    \"\"\"Using regular expression, we can extract the released years for each movie.\n",
    "    Input: movie_year (str) -> Movie title with years\n",
    "    Output: released_year (int) -> Released years from the given movie.\"\"\"\n",
    "    \n",
    "    \n",
    "    # create a pattern to extract movie year\n",
    "    # if 4 digits within the parenthesis, then extract it\n",
    "    pattern = re.findall(r'\\(([0-9]{4})\\)', movie_year)\n",
    "    \n",
    "    if pattern:\n",
    "        global released_year\n",
    "        released_year = int(pattern[0])\n",
    "    else:\n",
    "        pass\n",
    "    \n",
    "    return released_year"
   ]
  },
  {
   "cell_type": "code",
   "execution_count": 5,
   "id": "6cb8c0b8",
   "metadata": {},
   "outputs": [],
   "source": [
    "def extract_movie(val):\n",
    "    \"\"\"Using regular expression, we can extract the released years for each movie.\n",
    "    Input:  val (str) -> movie title\n",
    "    Output: final_title (str) -> The transformed movie title.\"\"\"\n",
    "    \n",
    "    title = str(val)\n",
    "    \n",
    "    title_only = re.sub(r'\\(([0-9]{4})\\)', '', title)\n",
    "    final_title = title_only.strip()\n",
    "    \n",
    "    return final_title"
   ]
  },
  {
   "cell_type": "code",
   "execution_count": 6,
   "id": "1f0b4215",
   "metadata": {},
   "outputs": [],
   "source": [
    "def change_timestamp(utc_timestamp):\n",
    "    \"\"\"Change the date format\n",
    "    Input: utc_timestamp (int) -> timestamp before transformed\n",
    "    Output: new_date (str) -> datetime information of reviews after transform\"\"\"\n",
    "    \n",
    "    date_format = \"%Y-%m-%d %H:%M:%S\"\n",
    "    new_date = datetime.utcfromtimestamp(utc_timestamp).strftime(date_format)\n",
    "    new_date = str(new_date)\n",
    "    \n",
    "    return new_date"
   ]
  },
  {
   "cell_type": "markdown",
   "id": "1c638110",
   "metadata": {},
   "source": [
    "- assets"
   ]
  },
  {
   "cell_type": "code",
   "execution_count": 7,
   "id": "00000737",
   "metadata": {},
   "outputs": [],
   "source": [
    "asset_path = '../assets'\n",
    "data_path = '../data'"
   ]
  },
  {
   "cell_type": "code",
   "execution_count": 8,
   "id": "385042d8",
   "metadata": {},
   "outputs": [
    {
     "name": "stdout",
     "output_type": "stream",
     "text": [
      "[Errno 17] File exists: '../assets'\n",
      "[Errno 17] File exists: '../data'\n"
     ]
    }
   ],
   "source": [
    "create_folder(asset_path)\n",
    "create_folder(data_path)"
   ]
  },
  {
   "cell_type": "markdown",
   "id": "8017f23f",
   "metadata": {},
   "source": [
    "### Import data"
   ]
  },
  {
   "cell_type": "code",
   "execution_count": 9,
   "id": "0d16305c",
   "metadata": {},
   "outputs": [],
   "source": [
    "movie_path = '../data/movies.csv'\n",
    "rating_path = '../data/ratings.csv'"
   ]
  },
  {
   "cell_type": "code",
   "execution_count": 10,
   "id": "e090f04a",
   "metadata": {},
   "outputs": [],
   "source": [
    "movie = pd.read_csv(movie_path)\n",
    "rating = pd.read_csv(rating_path)"
   ]
  },
  {
   "cell_type": "markdown",
   "id": "d26cb6af",
   "metadata": {},
   "source": [
    "### Quick check"
   ]
  },
  {
   "cell_type": "code",
   "execution_count": 11,
   "id": "e5104b66",
   "metadata": {},
   "outputs": [
    {
     "name": "stdout",
     "output_type": "stream",
     "text": [
      "<class 'pandas.core.frame.DataFrame'>\n",
      "RangeIndex: 62423 entries, 0 to 62422\n",
      "Data columns (total 3 columns):\n",
      " #   Column   Non-Null Count  Dtype \n",
      "---  ------   --------------  ----- \n",
      " 0   movieId  62423 non-null  int64 \n",
      " 1   title    62423 non-null  object\n",
      " 2   genres   62423 non-null  object\n",
      "dtypes: int64(1), object(2)\n",
      "memory usage: 1.4+ MB\n"
     ]
    }
   ],
   "source": [
    "movie.info()"
   ]
  },
  {
   "cell_type": "code",
   "execution_count": 12,
   "id": "1885b7b3",
   "metadata": {},
   "outputs": [
    {
     "name": "stdout",
     "output_type": "stream",
     "text": [
      "<class 'pandas.core.frame.DataFrame'>\n",
      "RangeIndex: 25000095 entries, 0 to 25000094\n",
      "Data columns (total 4 columns):\n",
      " #   Column     Dtype  \n",
      "---  ------     -----  \n",
      " 0   userId     int64  \n",
      " 1   movieId    int64  \n",
      " 2   rating     float64\n",
      " 3   timestamp  int64  \n",
      "dtypes: float64(1), int64(3)\n",
      "memory usage: 762.9 MB\n"
     ]
    }
   ],
   "source": [
    "rating.info()"
   ]
  },
  {
   "cell_type": "markdown",
   "id": "cc50faea",
   "metadata": {},
   "source": [
    "- check unique values"
   ]
  },
  {
   "cell_type": "code",
   "execution_count": 13,
   "id": "2bf7fd28",
   "metadata": {},
   "outputs": [
    {
     "name": "stdout",
     "output_type": "stream",
     "text": [
      "In the movie dataset, there are 62423 unique movies.\n"
     ]
    }
   ],
   "source": [
    "print(f\"In the movie dataset, there are {movie.movieId.nunique()} unique movies.\")"
   ]
  },
  {
   "cell_type": "code",
   "execution_count": 14,
   "id": "9b2eb896",
   "metadata": {},
   "outputs": [
    {
     "name": "stdout",
     "output_type": "stream",
     "text": [
      "In the rating dataset, there are 162541 unique users.\n",
      "In the rating dataset, 59047 movies were rated by various users.\n"
     ]
    }
   ],
   "source": [
    "print(f\"In the rating dataset, there are {rating.userId.nunique()} unique users.\")\n",
    "print(f\"In the rating dataset, {rating.movieId.nunique()} movies were rated by various users.\")"
   ]
  },
  {
   "cell_type": "markdown",
   "id": "c3030322",
   "metadata": {},
   "source": [
    "### Data Transformation"
   ]
  },
  {
   "cell_type": "markdown",
   "id": "76c79cdd",
   "metadata": {},
   "source": [
    "#### Movie"
   ]
  },
  {
   "cell_type": "code",
   "execution_count": 15,
   "id": "f44a0e48",
   "metadata": {},
   "outputs": [
    {
     "data": {
      "text/html": [
       "<div>\n",
       "<style scoped>\n",
       "    .dataframe tbody tr th:only-of-type {\n",
       "        vertical-align: middle;\n",
       "    }\n",
       "\n",
       "    .dataframe tbody tr th {\n",
       "        vertical-align: top;\n",
       "    }\n",
       "\n",
       "    .dataframe thead th {\n",
       "        text-align: right;\n",
       "    }\n",
       "</style>\n",
       "<table border=\"1\" class=\"dataframe\">\n",
       "  <thead>\n",
       "    <tr style=\"text-align: right;\">\n",
       "      <th></th>\n",
       "      <th>movieId</th>\n",
       "      <th>title</th>\n",
       "      <th>genres</th>\n",
       "    </tr>\n",
       "  </thead>\n",
       "  <tbody>\n",
       "    <tr>\n",
       "      <th>0</th>\n",
       "      <td>1</td>\n",
       "      <td>Toy Story (1995)</td>\n",
       "      <td>Adventure|Animation|Children|Comedy|Fantasy</td>\n",
       "    </tr>\n",
       "    <tr>\n",
       "      <th>1</th>\n",
       "      <td>2</td>\n",
       "      <td>Jumanji (1995)</td>\n",
       "      <td>Adventure|Children|Fantasy</td>\n",
       "    </tr>\n",
       "    <tr>\n",
       "      <th>2</th>\n",
       "      <td>3</td>\n",
       "      <td>Grumpier Old Men (1995)</td>\n",
       "      <td>Comedy|Romance</td>\n",
       "    </tr>\n",
       "    <tr>\n",
       "      <th>3</th>\n",
       "      <td>4</td>\n",
       "      <td>Waiting to Exhale (1995)</td>\n",
       "      <td>Comedy|Drama|Romance</td>\n",
       "    </tr>\n",
       "    <tr>\n",
       "      <th>4</th>\n",
       "      <td>5</td>\n",
       "      <td>Father of the Bride Part II (1995)</td>\n",
       "      <td>Comedy</td>\n",
       "    </tr>\n",
       "  </tbody>\n",
       "</table>\n",
       "</div>"
      ],
      "text/plain": [
       "   movieId                               title  \\\n",
       "0        1                    Toy Story (1995)   \n",
       "1        2                      Jumanji (1995)   \n",
       "2        3             Grumpier Old Men (1995)   \n",
       "3        4            Waiting to Exhale (1995)   \n",
       "4        5  Father of the Bride Part II (1995)   \n",
       "\n",
       "                                        genres  \n",
       "0  Adventure|Animation|Children|Comedy|Fantasy  \n",
       "1                   Adventure|Children|Fantasy  \n",
       "2                               Comedy|Romance  \n",
       "3                         Comedy|Drama|Romance  \n",
       "4                                       Comedy  "
      ]
     },
     "execution_count": 15,
     "metadata": {},
     "output_type": "execute_result"
    }
   ],
   "source": [
    "movie.head()"
   ]
  },
  {
   "cell_type": "code",
   "execution_count": 16,
   "id": "b6c5696e",
   "metadata": {},
   "outputs": [
    {
     "name": "stdout",
     "output_type": "stream",
     "text": [
      "<class 'pandas.core.frame.DataFrame'>\n",
      "RangeIndex: 62423 entries, 0 to 62422\n",
      "Data columns (total 3 columns):\n",
      " #   Column   Non-Null Count  Dtype \n",
      "---  ------   --------------  ----- \n",
      " 0   movieId  62423 non-null  int64 \n",
      " 1   title    62423 non-null  object\n",
      " 2   genres   62423 non-null  object\n",
      "dtypes: int64(1), object(2)\n",
      "memory usage: 1.4+ MB\n"
     ]
    }
   ],
   "source": [
    "movie.info()"
   ]
  },
  {
   "cell_type": "code",
   "execution_count": 17,
   "id": "4ff0b9b9",
   "metadata": {},
   "outputs": [
    {
     "data": {
      "text/plain": [
       "Index(['movieId', 'title', 'genres'], dtype='object')"
      ]
     },
     "execution_count": 17,
     "metadata": {},
     "output_type": "execute_result"
    }
   ],
   "source": [
    "movie.columns"
   ]
  },
  {
   "cell_type": "markdown",
   "id": "f40d7d89",
   "metadata": {},
   "source": [
    "- extract movie names"
   ]
  },
  {
   "cell_type": "code",
   "execution_count": 18,
   "id": "34970efc",
   "metadata": {},
   "outputs": [],
   "source": [
    "movie.loc[:, 'clean_movie_title'] = movie.title.apply(extract_movie)"
   ]
  },
  {
   "cell_type": "markdown",
   "id": "88843515",
   "metadata": {},
   "source": [
    "- extract years"
   ]
  },
  {
   "cell_type": "code",
   "execution_count": 19,
   "id": "0b809ba4",
   "metadata": {},
   "outputs": [],
   "source": [
    "movie.loc[:, 'released_year'] = movie.title.apply(extract_year)"
   ]
  },
  {
   "cell_type": "markdown",
   "id": "5fd037bd",
   "metadata": {},
   "source": [
    "- genre"
   ]
  },
  {
   "cell_type": "code",
   "execution_count": 20,
   "id": "4807dd93",
   "metadata": {},
   "outputs": [],
   "source": [
    "movie.loc[:, 'genre_counts'] = movie.genres.apply(lambda row: len(row.split('|')))"
   ]
  },
  {
   "cell_type": "markdown",
   "id": "e9380254",
   "metadata": {},
   "source": [
    "find the number of gernes for each movie"
   ]
  },
  {
   "cell_type": "markdown",
   "id": "3d573e19",
   "metadata": {},
   "source": [
    "transform some values since we will work on one hot coding"
   ]
  },
  {
   "cell_type": "code",
   "execution_count": 21,
   "id": "9cce63e9",
   "metadata": {},
   "outputs": [],
   "source": [
    "movie.loc[:, 'new_genres'] = movie.genres.apply(lambda row: 'Missing' if 'no genres listed' in str(row) else row)"
   ]
  },
  {
   "cell_type": "code",
   "execution_count": 22,
   "id": "b94438e7",
   "metadata": {},
   "outputs": [],
   "source": [
    "movie.loc[:, 'new_genres'] = movie.new_genres.apply(lambda row: row.replace('|', ','))"
   ]
  },
  {
   "cell_type": "markdown",
   "id": "5dbaec04",
   "metadata": {},
   "source": [
    "- grouping movie released years"
   ]
  },
  {
   "cell_type": "code",
   "execution_count": 23,
   "id": "3be6ce87",
   "metadata": {},
   "outputs": [],
   "source": [
    "movie.loc[:, 'groupped_released_year']= movie.released_year.apply(lambda year: str(year)[:3] + '0s')"
   ]
  },
  {
   "cell_type": "markdown",
   "id": "37ac4c47",
   "metadata": {},
   "source": [
    "- one hot coding"
   ]
  },
  {
   "cell_type": "code",
   "execution_count": 24,
   "id": "7741744a",
   "metadata": {},
   "outputs": [],
   "source": [
    "target = list(movie.new_genres)"
   ]
  },
  {
   "cell_type": "code",
   "execution_count": 25,
   "id": "dcee6ce9",
   "metadata": {},
   "outputs": [],
   "source": [
    "cv = CountVectorizer()\n",
    "genre_to_cv = cv.fit_transform(target)"
   ]
  },
  {
   "cell_type": "code",
   "execution_count": 26,
   "id": "f7a69353",
   "metadata": {},
   "outputs": [],
   "source": [
    "genre_df = pd.DataFrame(genre_to_cv.toarray(), columns = cv.get_feature_names_out())"
   ]
  },
  {
   "cell_type": "code",
   "execution_count": 27,
   "id": "1c9bb330",
   "metadata": {},
   "outputs": [],
   "source": [
    "genre_df.loc[:, 'movieId'] = list(movie.movieId)"
   ]
  },
  {
   "cell_type": "markdown",
   "id": "eda2cc87",
   "metadata": {},
   "source": [
    "- combine the movie dataset together"
   ]
  },
  {
   "cell_type": "code",
   "execution_count": 28,
   "id": "88a2c235",
   "metadata": {},
   "outputs": [],
   "source": [
    "final_movie = pd.merge(movie, genre_df, left_on = ['movieId'], right_on = ['movieId'])"
   ]
  },
  {
   "cell_type": "markdown",
   "id": "29d415f1",
   "metadata": {},
   "source": [
    "#### Rating"
   ]
  },
  {
   "cell_type": "code",
   "execution_count": 29,
   "id": "efb196fe",
   "metadata": {},
   "outputs": [
    {
     "data": {
      "text/html": [
       "<div>\n",
       "<style scoped>\n",
       "    .dataframe tbody tr th:only-of-type {\n",
       "        vertical-align: middle;\n",
       "    }\n",
       "\n",
       "    .dataframe tbody tr th {\n",
       "        vertical-align: top;\n",
       "    }\n",
       "\n",
       "    .dataframe thead th {\n",
       "        text-align: right;\n",
       "    }\n",
       "</style>\n",
       "<table border=\"1\" class=\"dataframe\">\n",
       "  <thead>\n",
       "    <tr style=\"text-align: right;\">\n",
       "      <th></th>\n",
       "      <th>userId</th>\n",
       "      <th>movieId</th>\n",
       "      <th>rating</th>\n",
       "      <th>timestamp</th>\n",
       "    </tr>\n",
       "  </thead>\n",
       "  <tbody>\n",
       "    <tr>\n",
       "      <th>0</th>\n",
       "      <td>1</td>\n",
       "      <td>296</td>\n",
       "      <td>5.0</td>\n",
       "      <td>1147880044</td>\n",
       "    </tr>\n",
       "    <tr>\n",
       "      <th>1</th>\n",
       "      <td>1</td>\n",
       "      <td>306</td>\n",
       "      <td>3.5</td>\n",
       "      <td>1147868817</td>\n",
       "    </tr>\n",
       "    <tr>\n",
       "      <th>2</th>\n",
       "      <td>1</td>\n",
       "      <td>307</td>\n",
       "      <td>5.0</td>\n",
       "      <td>1147868828</td>\n",
       "    </tr>\n",
       "    <tr>\n",
       "      <th>3</th>\n",
       "      <td>1</td>\n",
       "      <td>665</td>\n",
       "      <td>5.0</td>\n",
       "      <td>1147878820</td>\n",
       "    </tr>\n",
       "    <tr>\n",
       "      <th>4</th>\n",
       "      <td>1</td>\n",
       "      <td>899</td>\n",
       "      <td>3.5</td>\n",
       "      <td>1147868510</td>\n",
       "    </tr>\n",
       "  </tbody>\n",
       "</table>\n",
       "</div>"
      ],
      "text/plain": [
       "   userId  movieId  rating   timestamp\n",
       "0       1      296     5.0  1147880044\n",
       "1       1      306     3.5  1147868817\n",
       "2       1      307     5.0  1147868828\n",
       "3       1      665     5.0  1147878820\n",
       "4       1      899     3.5  1147868510"
      ]
     },
     "execution_count": 29,
     "metadata": {},
     "output_type": "execute_result"
    }
   ],
   "source": [
    "rating.head()"
   ]
  },
  {
   "cell_type": "code",
   "execution_count": 30,
   "id": "f2194b39",
   "metadata": {},
   "outputs": [
    {
     "name": "stdout",
     "output_type": "stream",
     "text": [
      "<class 'pandas.core.frame.DataFrame'>\n",
      "RangeIndex: 25000095 entries, 0 to 25000094\n",
      "Data columns (total 4 columns):\n",
      " #   Column     Dtype  \n",
      "---  ------     -----  \n",
      " 0   userId     int64  \n",
      " 1   movieId    int64  \n",
      " 2   rating     float64\n",
      " 3   timestamp  int64  \n",
      "dtypes: float64(1), int64(3)\n",
      "memory usage: 762.9 MB\n"
     ]
    }
   ],
   "source": [
    "rating.info()"
   ]
  },
  {
   "cell_type": "markdown",
   "id": "1bbdcffb",
   "metadata": {},
   "source": [
    "- convert the timestamp"
   ]
  },
  {
   "cell_type": "code",
   "execution_count": 31,
   "id": "02ab1e6c",
   "metadata": {},
   "outputs": [],
   "source": [
    "rating.loc[:, 'review_datetime'] = rating.timestamp.apply(change_timestamp)"
   ]
  },
  {
   "cell_type": "code",
   "execution_count": 32,
   "id": "e5f71122",
   "metadata": {},
   "outputs": [],
   "source": [
    "rating.review_datetime = pd.to_datetime(rating.review_datetime)"
   ]
  },
  {
   "cell_type": "markdown",
   "id": "bebd4195",
   "metadata": {},
   "source": [
    "convert it to the datetime object"
   ]
  },
  {
   "cell_type": "code",
   "execution_count": 33,
   "id": "18d7d0f4",
   "metadata": {},
   "outputs": [],
   "source": [
    "rating.loc[:, 'review_year'] = rating.review_datetime.dt.year\n",
    "rating.loc[:, 'review_quarter'] = rating.review_datetime.dt.quarter\n",
    "rating.loc[:, 'review_month'] = rating.review_datetime.dt.month\n",
    "rating.loc[:, 'review_day'] = rating.review_datetime.dt.day\n",
    "rating.loc[:, 'review_dayname'] = rating.review_datetime.dt.day_name()"
   ]
  },
  {
   "cell_type": "markdown",
   "id": "74775f74",
   "metadata": {},
   "source": [
    "get date information from the datetime object"
   ]
  },
  {
   "cell_type": "markdown",
   "id": "1db0c686",
   "metadata": {},
   "source": [
    "### Join the dataset"
   ]
  },
  {
   "cell_type": "markdown",
   "id": "7f68b9b3",
   "metadata": {},
   "source": [
    "join the datasets together to get user-item information"
   ]
  },
  {
   "cell_type": "markdown",
   "id": "e2c41367",
   "metadata": {},
   "source": [
    "convert movieId as string to join together"
   ]
  },
  {
   "cell_type": "markdown",
   "id": "268e9b15",
   "metadata": {},
   "source": [
    "- convert the date type from int to str"
   ]
  },
  {
   "cell_type": "code",
   "execution_count": 34,
   "id": "e0587c45",
   "metadata": {},
   "outputs": [],
   "source": [
    "final_movie.loc[:, 'movieId'] = final_movie.movieId.apply(lambda ID: str(ID))\n",
    "rating.loc[:, 'movieId'] = rating.movieId.apply(lambda ID: str(ID))"
   ]
  },
  {
   "cell_type": "markdown",
   "id": "a8d32bb1",
   "metadata": {},
   "source": [
    "- select features from both datasets"
   ]
  },
  {
   "cell_type": "code",
   "execution_count": 35,
   "id": "a1caa670",
   "metadata": {},
   "outputs": [
    {
     "data": {
      "text/plain": [
       "Index(['movieId', 'title', 'genres', 'clean_movie_title', 'released_year',\n",
       "       'genre_counts', 'new_genres', 'groupped_released_year', 'action',\n",
       "       'adventure', 'animation', 'children', 'comedy', 'crime', 'documentary',\n",
       "       'drama', 'fantasy', 'fi', 'film', 'horror', 'imax', 'missing',\n",
       "       'musical', 'mystery', 'noir', 'romance', 'sci', 'thriller', 'war',\n",
       "       'western'],\n",
       "      dtype='object')"
      ]
     },
     "execution_count": 35,
     "metadata": {},
     "output_type": "execute_result"
    }
   ],
   "source": [
    "final_movie.columns"
   ]
  },
  {
   "cell_type": "code",
   "execution_count": 36,
   "id": "272690ad",
   "metadata": {
    "scrolled": true
   },
   "outputs": [
    {
     "data": {
      "text/plain": [
       "Index(['userId', 'movieId', 'rating', 'timestamp', 'review_datetime',\n",
       "       'review_year', 'review_quarter', 'review_month', 'review_day',\n",
       "       'review_dayname'],\n",
       "      dtype='object')"
      ]
     },
     "execution_count": 36,
     "metadata": {},
     "output_type": "execute_result"
    }
   ],
   "source": [
    "rating.columns"
   ]
  },
  {
   "cell_type": "code",
   "execution_count": 37,
   "id": "e6c2b57d",
   "metadata": {},
   "outputs": [],
   "source": [
    "movie_features = ['movieId', 'clean_movie_title', 'released_year', 'genre_counts', 'new_genres'\\\n",
    "                  ,'groupped_released_year', 'action', 'adventure', 'animation', 'children', 'comedy'\\\n",
    "                  ,'crime', 'documentary', 'drama', 'fantasy', 'fi', 'film', 'horror', 'imax'\\\n",
    "                  ,'missing', 'musical', 'mystery', 'noir', 'romance', 'sci', 'thriller', 'war', 'western']"
   ]
  },
  {
   "cell_type": "code",
   "execution_count": 38,
   "id": "d8e47a23",
   "metadata": {},
   "outputs": [],
   "source": [
    "rating_features = ['userId', 'movieId', 'rating', 'review_datetime', 'review_year', 'review_quarter'\\\n",
    "                   ,'review_month', 'review_day', 'review_dayname']"
   ]
  },
  {
   "cell_type": "code",
   "execution_count": 39,
   "id": "83aaa92b",
   "metadata": {},
   "outputs": [],
   "source": [
    "movie_selected = final_movie[movie_features]\n",
    "rating_selected = rating[rating_features]"
   ]
  },
  {
   "cell_type": "markdown",
   "id": "b53bf6f7",
   "metadata": {},
   "source": [
    "### Export the dataset"
   ]
  },
  {
   "cell_type": "code",
   "execution_count": 40,
   "id": "67097a37",
   "metadata": {},
   "outputs": [],
   "source": [
    "movie_pkl = '../assets/movie.pkl'\n",
    "rating_pkl = '../assets/rating.pkl'"
   ]
  },
  {
   "cell_type": "code",
   "execution_count": 41,
   "id": "a983aa6c",
   "metadata": {},
   "outputs": [],
   "source": [
    "with open(movie_pkl, 'wb') as m:\n",
    "    pickle.dump(movie_selected, m)"
   ]
  },
  {
   "cell_type": "code",
   "execution_count": 42,
   "id": "67bf6431",
   "metadata": {},
   "outputs": [],
   "source": [
    "with open(rating_pkl, 'wb') as r:\n",
    "    pickle.dump(rating_selected, r)"
   ]
  }
 ],
 "metadata": {
  "kernelspec": {
   "display_name": "lightfm",
   "language": "python",
   "name": "lightfm"
  },
  "language_info": {
   "codemirror_mode": {
    "name": "ipython",
    "version": 3
   },
   "file_extension": ".py",
   "mimetype": "text/x-python",
   "name": "python",
   "nbconvert_exporter": "python",
   "pygments_lexer": "ipython3",
   "version": "3.9.0"
  }
 },
 "nbformat": 4,
 "nbformat_minor": 5
}
