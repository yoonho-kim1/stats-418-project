{
 "cells": [
  {
   "cell_type": "markdown",
   "id": "49f3ad22",
   "metadata": {},
   "source": [
    "### Import Libraries"
   ]
  },
  {
   "cell_type": "code",
   "execution_count": 26,
   "id": "6724b1f3",
   "metadata": {},
   "outputs": [],
   "source": [
    "import numpy as np\n",
    "import pandas as pd\n",
    "import re\n",
    "import os\n",
    "import pickle\n",
    "from sklearn.preprocessing import LabelEncoder\n",
    "from lightfm.data import Dataset\n",
    "from lightfm import LightFM\n",
    "from lightfm.evaluation import auc_score, precision_at_k\n",
    "from scipy.sparse import csr_matrix, coo_matrix\n",
    "from sklearn.preprocessing import LabelEncoder\n",
    "from tqdm import tqdm \n",
    "import matplotlib.pyplot as plt\n",
    "import seaborn as sns\n",
    "%matplotlib inline"
   ]
  },
  {
   "cell_type": "markdown",
   "id": "a889d068",
   "metadata": {},
   "source": [
    "### Import Data"
   ]
  },
  {
   "cell_type": "code",
   "execution_count": 27,
   "id": "a4a4aa19",
   "metadata": {},
   "outputs": [],
   "source": [
    "movie_path = '../assets/final_movie.pkl'\n",
    "rating_path = '../assets/final_rating.pkl'\n",
    "model_path = '../assets/model.pkl'\n",
    "user_item_path = '../assets/user_movie_interaction.pkl'\n",
    "dataset_path = '../assets/dataset.pkl'\n",
    "user_feats_path = '../assets/user_feats.pkl'\n",
    "csr_path = '../assets/csr.pkl'"
   ]
  },
  {
   "cell_type": "code",
   "execution_count": 28,
   "id": "7491070b",
   "metadata": {},
   "outputs": [],
   "source": [
    "movie = pd.read_pickle(movie_path)\n",
    "new_rating = pd.read_pickle(rating_path)"
   ]
  },
  {
   "cell_type": "code",
   "execution_count": 29,
   "id": "311b8c05",
   "metadata": {},
   "outputs": [],
   "source": [
    "with open(model_path, 'rb') as m:\n",
    "    model = pickle.load(m)"
   ]
  },
  {
   "cell_type": "code",
   "execution_count": 30,
   "id": "7ec222cb",
   "metadata": {},
   "outputs": [],
   "source": [
    "with open(user_item_path, 'rb') as u:\n",
    "    user_item_interaction = pickle.load(u)"
   ]
  },
  {
   "cell_type": "code",
   "execution_count": 31,
   "id": "9cc646a8",
   "metadata": {},
   "outputs": [],
   "source": [
    "with open(dataset_path, 'rb') as d:\n",
    "    dataset = pickle.load(d)"
   ]
  },
  {
   "cell_type": "code",
   "execution_count": 32,
   "id": "16c4c959",
   "metadata": {},
   "outputs": [],
   "source": [
    "with open(user_feats_path, 'rb') as u:\n",
    "    user_feats = pickle.load(u)"
   ]
  },
  {
   "cell_type": "code",
   "execution_count": 33,
   "id": "40ae18d1",
   "metadata": {},
   "outputs": [],
   "source": [
    "with open(csr_path, 'rb') as c:\n",
    "    user_item_csr = pickle.load(c)"
   ]
  },
  {
   "cell_type": "markdown",
   "id": "d9148f72",
   "metadata": {},
   "source": [
    "### Helpers"
   ]
  },
  {
   "cell_type": "code",
   "execution_count": 34,
   "id": "84196ecd",
   "metadata": {},
   "outputs": [],
   "source": [
    "def recommend_top5(model, movie, dataset, user_id=None, new_user_feature=None, k=5):\n",
    "    \n",
    "    nmovie=movie.set_index('movieId')\n",
    "    \n",
    "    max_user_id = max(new_rating.userId)\n",
    "    if user_id is None:\n",
    "        user_id = max_user_id +1\n",
    "    if user_id > max_user_id:\n",
    "        for genre in unique_genre:\n",
    "            if genre not in list(new_user_feature.keys()):\n",
    "                new_user_feature[genre] = 0\n",
    "        dataset.fit_partial(users=[user_id],user_features=unique_genre)\n",
    "        new_user_feature = [user_id,new_user_feature]\n",
    "        new_user_feature = dataset.build_user_features([new_user_feature],normalize=False)\n",
    "\n",
    "    user_id_map = dataset.mapping()[0][user_id] \n",
    "    scores = model.predict(user_id_map, np.arange(n_items),user_features=new_user_feature)\n",
    "    rank = np.argsort(-scores)\n",
    "    selected_movie_id =np.array(list(dataset.mapping()[2].keys()))[rank]\n",
    "    top_items = nmovie.loc[selected_movie_id]\n",
    "\n",
    "        \n",
    "    return top_items['clean_movie_title'][:5]"
   ]
  },
  {
   "cell_type": "code",
   "execution_count": 35,
   "id": "2f132e01",
   "metadata": {},
   "outputs": [],
   "source": [
    "def create_random_user_info(user_id = None):\n",
    "    \n",
    "    \"\"\"This function will create random user information regarding their genre and interests.\n",
    "    Input: \n",
    "    user_id (None): If None, then we assume this is a new user.\n",
    "                    If we specify the user information, then it will overwrite their previous information.\n",
    "    unique_genre (list): contains unique genre in the dataset. \n",
    "                           \n",
    "    Output:\n",
    "    user_info_dict (dict): It will contain user information regarding the genres and their interests.\n",
    "    \"\"\"\n",
    "    \n",
    "    # create an empty dictionary to save the results\n",
    "    user_info_dict = {}\n",
    "    \n",
    "    for genre in unique_genre:\n",
    "        rand_score = round(np.random.rand(1)[0], 4)\n",
    "        user_info_dict[genre] = rand_score\n",
    "        \n",
    "    return user_info_dict"
   ]
  },
  {
   "cell_type": "markdown",
   "id": "b53d8163",
   "metadata": {},
   "source": [
    "### Test"
   ]
  },
  {
   "cell_type": "code",
   "execution_count": 36,
   "id": "bf795e00",
   "metadata": {},
   "outputs": [],
   "source": [
    "n_users, n_items = user_item_csr.shape"
   ]
  },
  {
   "cell_type": "code",
   "execution_count": 37,
   "id": "9b37b296",
   "metadata": {},
   "outputs": [],
   "source": [
    "unique_genre = sorted(set(map(lambda genre: \\\n",
    "                                  genre.strip(),','.join(map(lambda genre: str(genre), movie['new_genres'].values))\\\n",
    "                                  .split(','))))"
   ]
  },
  {
   "cell_type": "markdown",
   "id": "068fb334",
   "metadata": {},
   "source": [
    "### Testing"
   ]
  },
  {
   "cell_type": "markdown",
   "id": "be229c8d",
   "metadata": {},
   "source": [
    "change a bit so that we can see what they've watched and their recommended movies"
   ]
  },
  {
   "cell_type": "code",
   "execution_count": 38,
   "id": "8839cb8a",
   "metadata": {},
   "outputs": [
    {
     "data": {
      "text/plain": [
       "movieId\n",
       "480                                  Jurassic Park\n",
       "316                                       Stargate\n",
       "1210    Star Wars: Episode VI - Return of the Jedi\n",
       "260             Star Wars: Episode IV - A New Hope\n",
       "736                                        Twister\n",
       "Name: clean_movie_title, dtype: object"
      ]
     },
     "execution_count": 38,
     "metadata": {},
     "output_type": "execute_result"
    }
   ],
   "source": [
    "recommend_top5(model,\n",
    "            movie,\n",
    "            dataset,\n",
    "            user_id = 2)"
   ]
  },
  {
   "cell_type": "code",
   "execution_count": 39,
   "id": "e71cf962",
   "metadata": {},
   "outputs": [
    {
     "data": {
      "text/plain": [
       "movieId\n",
       "344              Ace Ventura: Pet Detective\n",
       "1073    Willy Wonka & the Chocolate Factory\n",
       "2804                     Christmas Story, A\n",
       "588                                 Aladdin\n",
       "223                                  Clerks\n",
       "Name: clean_movie_title, dtype: object"
      ]
     },
     "execution_count": 39,
     "metadata": {},
     "output_type": "execute_result"
    }
   ],
   "source": [
    "recommend_top5(model,\n",
    "            movie,\n",
    "            dataset,\n",
    "            user_id = None,\n",
    "            new_user_feature= {'Comedy':1, 'Mystery': 0.5, 'Adventure':0.8})"
   ]
  },
  {
   "cell_type": "code",
   "execution_count": 40,
   "id": "e2423da0",
   "metadata": {},
   "outputs": [
    {
     "data": {
      "text/plain": [
       "movieId\n",
       "344     Ace Ventura: Pet Detective\n",
       "223                         Clerks\n",
       "588                        Aladdin\n",
       "597                   Pretty Woman\n",
       "1265                 Groundhog Day\n",
       "Name: clean_movie_title, dtype: object"
      ]
     },
     "execution_count": 40,
     "metadata": {},
     "output_type": "execute_result"
    }
   ],
   "source": [
    "recommend_top5(model,\n",
    "            movie,\n",
    "            dataset,\n",
    "            user_id = None,\n",
    "            new_user_feature= {'Comedy':0.6, 'Mystery': 0.5, 'Adventure':0.8})"
   ]
  },
  {
   "cell_type": "markdown",
   "id": "df0a8fa8",
   "metadata": {},
   "source": [
    "- random testing"
   ]
  },
  {
   "cell_type": "code",
   "execution_count": 41,
   "id": "f2a7a4df",
   "metadata": {},
   "outputs": [],
   "source": [
    "rand_user_info_1 = create_random_user_info()\n",
    "rand_user_info_2 = create_random_user_info()\n",
    "rand_user_info_3 = create_random_user_info()"
   ]
  },
  {
   "cell_type": "code",
   "execution_count": 42,
   "id": "278c1085",
   "metadata": {},
   "outputs": [
    {
     "data": {
      "text/plain": [
       "movieId\n",
       "5618      Spirited Away (Sen to Chihiro no kamikakushi)\n",
       "5971              My Neighbor Totoro (Tonari no Totoro)\n",
       "78499                                       Toy Story 3\n",
       "109487                                     Interstellar\n",
       "134853                                       Inside Out\n",
       "Name: clean_movie_title, dtype: object"
      ]
     },
     "execution_count": 42,
     "metadata": {},
     "output_type": "execute_result"
    }
   ],
   "source": [
    "recommend_top5(model,\n",
    "            movie,\n",
    "            dataset,\n",
    "            user_id = None,\n",
    "            new_user_feature= rand_user_info_1)"
   ]
  },
  {
   "cell_type": "code",
   "execution_count": 43,
   "id": "0f7dd4f0",
   "metadata": {},
   "outputs": [
    {
     "data": {
      "text/plain": [
       "movieId\n",
       "183869        Hereditary\n",
       "194200         Hell Fest\n",
       "169498     Buffalo Dance\n",
       "158743    Occupation 101\n",
       "160420            Thithi\n",
       "Name: clean_movie_title, dtype: object"
      ]
     },
     "execution_count": 43,
     "metadata": {},
     "output_type": "execute_result"
    }
   ],
   "source": [
    "recommend_top5(model,\n",
    "            movie,\n",
    "            dataset,\n",
    "            user_id = None,\n",
    "            new_user_feature= rand_user_info_2)"
   ]
  },
  {
   "cell_type": "code",
   "execution_count": 44,
   "id": "03db6b0d",
   "metadata": {},
   "outputs": [
    {
     "data": {
      "text/plain": [
       "movieId\n",
       "109487                                     Interstellar\n",
       "79132                                         Inception\n",
       "5618      Spirited Away (Sen to Chihiro no kamikakushi)\n",
       "78499                                       Toy Story 3\n",
       "58559                                  Dark Knight, The\n",
       "Name: clean_movie_title, dtype: object"
      ]
     },
     "execution_count": 44,
     "metadata": {},
     "output_type": "execute_result"
    }
   ],
   "source": [
    "recommend_top5(model,\n",
    "            movie,\n",
    "            dataset,\n",
    "            user_id = None,\n",
    "            new_user_feature= rand_user_info_3)"
   ]
  }
 ],
 "metadata": {
  "kernelspec": {
   "display_name": "lightfm",
   "language": "python",
   "name": "lightfm"
  },
  "language_info": {
   "codemirror_mode": {
    "name": "ipython",
    "version": 3
   },
   "file_extension": ".py",
   "mimetype": "text/x-python",
   "name": "python",
   "nbconvert_exporter": "python",
   "pygments_lexer": "ipython3",
   "version": "3.9.0"
  }
 },
 "nbformat": 4,
 "nbformat_minor": 5
}
