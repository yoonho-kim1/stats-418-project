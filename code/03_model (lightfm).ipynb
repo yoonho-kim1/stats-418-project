{
 "cells": [
  {
   "cell_type": "markdown",
   "id": "49f3ad22",
   "metadata": {},
   "source": [
    "### Import Libraries"
   ]
  },
  {
   "cell_type": "code",
   "execution_count": 1,
   "id": "6724b1f3",
   "metadata": {},
   "outputs": [
    {
     "name": "stderr",
     "output_type": "stream",
     "text": [
      "/Users/yoonhokim/mambaforge/envs/lightfm/lib/python3.9/site-packages/lightfm/_lightfm_fast.py:9: UserWarning: LightFM was compiled without OpenMP support. Only a single thread will be used.\n",
      "  warnings.warn(\n"
     ]
    }
   ],
   "source": [
    "import numpy as np\n",
    "import pandas as pd\n",
    "import re\n",
    "import os\n",
    "import pickle\n",
    "import random\n",
    "from lightfm.data import Dataset\n",
    "from lightfm import LightFM\n",
    "from lightfm.evaluation import auc_score, precision_at_k\n",
    "from scipy.sparse import csr_matrix\n",
    "from lightfm.cross_validation import random_train_test_split\n",
    "from tqdm import tqdm \n",
    "import matplotlib.pyplot as plt\n",
    "import seaborn as sns\n",
    "%matplotlib inline"
   ]
  },
  {
   "cell_type": "markdown",
   "id": "a889d068",
   "metadata": {},
   "source": [
    "### Import Data"
   ]
  },
  {
   "cell_type": "code",
   "execution_count": 2,
   "id": "a2dd4af7",
   "metadata": {},
   "outputs": [],
   "source": [
    "movie = pd.read_pickle('../assets/movie.pkl')\n",
    "rating = pd.read_pickle('../assets/new_rating.pkl')"
   ]
  },
  {
   "cell_type": "markdown",
   "id": "352e3d8a",
   "metadata": {},
   "source": [
    "select number of rows in the rating dataset due to a computation issue"
   ]
  },
  {
   "cell_type": "markdown",
   "id": "c3e1c003",
   "metadata": {},
   "source": [
    "### Config"
   ]
  },
  {
   "cell_type": "markdown",
   "id": "37ccbbf1",
   "metadata": {},
   "source": [
    "Setting up config for the light fm model"
   ]
  },
  {
   "cell_type": "code",
   "execution_count": 3,
   "id": "54e7fbb1",
   "metadata": {},
   "outputs": [],
   "source": [
    "config = {}\n",
    "\n",
    "SEED = 42\n",
    "USER_ALPHA = 1e-6\n",
    "THREAD = 32\n",
    "COMPONENTS = 20\n",
    "EPOCHS = 50\n",
    "NUM_ROWS = 3000000\n",
    "LOSS = 'warp'\n",
    "\n",
    "config['seed'] = SEED\n",
    "config['user_alpha'] = USER_ALPHA\n",
    "config['thread'] = THREAD\n",
    "config['components'] = COMPONENTS\n",
    "config['epochs'] = EPOCHS\n",
    "config['num_rows'] = NUM_ROWS\n",
    "config['loss'] = LOSS"
   ]
  },
  {
   "cell_type": "markdown",
   "id": "d9148f72",
   "metadata": {},
   "source": [
    "### Helpers"
   ]
  },
  {
   "cell_type": "code",
   "execution_count": 4,
   "id": "21de2dce",
   "metadata": {},
   "outputs": [],
   "source": [
    "def get_user_features(item_df, user_df):\n",
    "    \n",
    "    \"\"\"This function will get information from users regarding their total movie reviews \n",
    "    and the genres of the movies that they reviewed.\n",
    "    \n",
    "    Input:\n",
    "    item_df (dataframe): the original dataframe that contains movie information\n",
    "    user_df (dataframe): the original dataframe that contains rating information\n",
    "    \n",
    "    Output:\n",
    "    user_data (list): a combination of user id and their information. \n",
    "                      their information is composed of total movies they reviewed and the genre.\n",
    "                      the score is then calculated based on the total movies that they have reviewed\n",
    "    \"\"\"\n",
    "    # select features from the dataset\n",
    "    item_features = ['movieId', 'clean_movie_title', 'new_genres']\n",
    "    item_df = item_df[item_features]\n",
    "\n",
    "    user_features = ['userId', 'movieId', 'rating']\n",
    "    user_df = user_df[user_features]\n",
    "    \n",
    "    item_df = item_df.set_index('movieId')\n",
    "    user_df = user_df.set_index('userId')\n",
    "    \n",
    "    # create a list to store the results\n",
    "    user_data = []\n",
    "    \n",
    "    # unique user in the dataset\n",
    "    unique_user = list(set(user_df.index))\n",
    "    unique_genre = sorted(set(map(lambda genre: \\\n",
    "                                  genre.strip(),','.join(map(lambda genre: str(genre), item_df['new_genres'].values))\\\n",
    "                                  .split(','))))[:-1]\n",
    "    \n",
    "    # get user specific information\n",
    "    for user in unique_user:\n",
    "        user_specific_df = user_df[user_df.index == user]\n",
    "        total_reviews = len(user_specific_df)\n",
    "        genres = item_df.loc[user_specific_df['movieId']]['new_genres'].values\n",
    "        user_genre_list = list(genres)\n",
    "        user_genre_list_split = (','.join(map(lambda genre: str(genre), user_genre_list))).split(',')\n",
    "        \n",
    "        user_genre_score = {}\n",
    "        \n",
    "        # normalize the score\n",
    "        for genre in unique_genre:\n",
    "            user_genre_score[genre] = user_genre_list_split.count(genre)/total_reviews\n",
    "    \n",
    "        user_data.append([user, user_genre_score])\n",
    "    \n",
    "    return user_data\n",
    "            "
   ]
  },
  {
   "cell_type": "markdown",
   "id": "d40034ed",
   "metadata": {},
   "source": [
    "### Movie transform"
   ]
  },
  {
   "cell_type": "code",
   "execution_count": 5,
   "id": "bab2d160",
   "metadata": {},
   "outputs": [],
   "source": [
    "new_rating = rating.sample(config['num_rows'])"
   ]
  },
  {
   "cell_type": "markdown",
   "id": "b6fce40b",
   "metadata": {},
   "source": [
    "##### User Item Interaction"
   ]
  },
  {
   "cell_type": "code",
   "execution_count": 6,
   "id": "7490cc9b",
   "metadata": {
    "scrolled": false
   },
   "outputs": [
    {
     "name": "stderr",
     "output_type": "stream",
     "text": [
      "/Users/yoonhokim/mambaforge/envs/lightfm/lib/python3.9/site-packages/pandas/core/reshape/reshape.py:134: PerformanceWarning: The following operation may generate 5398366632 cells in the resulting pandas object.\n",
      "  warnings.warn(\n"
     ]
    }
   ],
   "source": [
    "user_movie_interaction = pd.pivot_table(new_rating, \n",
    "                                        index = 'userId', \n",
    "                                        columns='movieId', \n",
    "                                        values='rating')\n",
    "user_movie_interaction.fillna(0, inplace = True)\n",
    "user_movie_csr = csr_matrix(user_movie_interaction.values)"
   ]
  },
  {
   "cell_type": "code",
   "execution_count": 7,
   "id": "a89b6b29",
   "metadata": {},
   "outputs": [],
   "source": [
    "unique_genre = sorted(set(map(lambda genre: \\\n",
    "                                  genre.strip(),','.join(map(lambda genre: str(genre), movie['new_genres'].values))\\\n",
    "                                  .split(','))))"
   ]
  },
  {
   "cell_type": "code",
   "execution_count": 8,
   "id": "aee01e4d",
   "metadata": {},
   "outputs": [],
   "source": [
    "user_feats = get_user_features(movie, new_rating)"
   ]
  },
  {
   "cell_type": "code",
   "execution_count": 9,
   "id": "82c823e6",
   "metadata": {},
   "outputs": [],
   "source": [
    "sorted_user = new_rating.sort_values(by = 'userId')['userId'].unique()\n",
    "sorted_item = new_rating.sort_values(by = 'movieId')['movieId'].unique()"
   ]
  },
  {
   "cell_type": "markdown",
   "id": "e3b9e47a",
   "metadata": {},
   "source": [
    "### Train Test Split"
   ]
  },
  {
   "cell_type": "code",
   "execution_count": 10,
   "id": "672af6f9",
   "metadata": {},
   "outputs": [],
   "source": [
    "user_movie_csr_train, user_movie_csr_test = random_train_test_split(user_movie_csr, 0.3)"
   ]
  },
  {
   "cell_type": "markdown",
   "id": "d97d5f86",
   "metadata": {},
   "source": [
    "- cf"
   ]
  },
  {
   "cell_type": "code",
   "execution_count": 11,
   "id": "42d2cc8c",
   "metadata": {},
   "outputs": [],
   "source": [
    "dataset = Dataset()\n",
    "dataset.fit(sorted_user,\n",
    "            sorted_item,\n",
    "            item_features = [\"Name\"])"
   ]
  },
  {
   "cell_type": "code",
   "execution_count": 13,
   "id": "2158e3b7",
   "metadata": {},
   "outputs": [
    {
     "name": "stderr",
     "output_type": "stream",
     "text": [
      "100%|████████████████████████████████████████| 50/50 [1:43:54<00:00, 124.69s/it]\n"
     ]
    }
   ],
   "source": [
    "model_cf = LightFM(loss = config['loss'],\n",
    "                   no_components = config['components'],\n",
    "                   user_alpha = config['user_alpha'],\n",
    "                   random_state = np.random.RandomState(config['seed']))\n",
    "\n",
    "for epoch in tqdm(range(config['epochs'])):\n",
    "    model_cf.fit(user_movie_csr_train, \n",
    "                 epochs = config['epochs'],\n",
    "                 num_threads = config['thread']  j"
   ]
  },
  {
   "cell_type": "code",
   "execution_count": 14,
   "id": "77003344",
   "metadata": {},
   "outputs": [
    {
     "data": {
      "text/plain": [
       "(0.9940751, 0.9726679)"
      ]
     },
     "execution_count": 14,
     "metadata": {},
     "output_type": "execute_result"
    }
   ],
   "source": [
    "auc_train_cf = auc_score(model_cf, user_movie_csr_train).mean()\n",
    "auc_test_cf = auc_score(model_cf, user_movie_csr_test).mean()\n",
    "auc_train_cf, auc_test_cf"
   ]
  },
  {
   "cell_type": "code",
   "execution_count": 15,
   "id": "81eeff93",
   "metadata": {
    "scrolled": true
   },
   "outputs": [
    {
     "data": {
      "text/plain": [
       "(0.09427207, 0.018750219)"
      ]
     },
     "execution_count": 15,
     "metadata": {},
     "output_type": "execute_result"
    }
   ],
   "source": [
    "precision_train_cf = precision_at_k(model_cf, user_movie_csr_train, k = 7).mean()\n",
    "precision_test_cf = precision_at_k(model_cf, user_movie_csr_test, k = 7).mean()\n",
    "precision_train_cf, precision_test_cf"
   ]
  },
  {
   "cell_type": "markdown",
   "id": "03791049",
   "metadata": {},
   "source": [
    "- hybrid"
   ]
  },
  {
   "cell_type": "markdown",
   "id": "e1da1403",
   "metadata": {},
   "source": [
    "use hybrid model"
   ]
  },
  {
   "cell_type": "code",
   "execution_count": 16,
   "id": "b644ef90",
   "metadata": {},
   "outputs": [],
   "source": [
    "dataset = Dataset()\n",
    "dataset.fit(sorted_user,\n",
    "            sorted_item,\n",
    "            user_features = unique_genre,\n",
    "            item_features = [\"Name\"])\n",
    "user_features = dataset.build_user_features(user_feats,\n",
    "                                            normalize=True)"
   ]
  },
  {
   "cell_type": "code",
   "execution_count": 17,
   "id": "fbf17b89",
   "metadata": {},
   "outputs": [
    {
     "name": "stderr",
     "output_type": "stream",
     "text": [
      "100%|████████████████████████████████████████| 50/50 [2:31:32<00:00, 181.85s/it]\n"
     ]
    }
   ],
   "source": [
    "model_hybrid = LightFM(loss = config['loss'],\n",
    "                   no_components = config['components'],\n",
    "                   user_alpha = config['user_alpha'])\n",
    "\n",
    "for epoch in tqdm(range(config['epochs'])):\n",
    "    model_hybrid.fit(user_movie_csr_train, \n",
    "                 user_features = user_features,\n",
    "                 epochs = config['epochs'],\n",
    "                 num_threads = config['thread'])"
   ]
  },
  {
   "cell_type": "code",
   "execution_count": 18,
   "id": "2d70a1cf",
   "metadata": {},
   "outputs": [
    {
     "data": {
      "text/plain": [
       "(0.987656, 0.9809609)"
      ]
     },
     "execution_count": 18,
     "metadata": {},
     "output_type": "execute_result"
    }
   ],
   "source": [
    "auc_train = auc_score(model_hybrid, user_movie_csr_train, user_features = user_features).mean()\n",
    "auc_test = auc_score(model_hybrid, user_movie_csr_test, user_features = user_features).mean()\n",
    "auc_train, auc_test"
   ]
  },
  {
   "cell_type": "code",
   "execution_count": 19,
   "id": "34492acf",
   "metadata": {},
   "outputs": [
    {
     "data": {
      "text/plain": [
       "(0.084207825, 0.03900354)"
      ]
     },
     "execution_count": 19,
     "metadata": {},
     "output_type": "execute_result"
    }
   ],
   "source": [
    "precision_train = precision_at_k(model_hybrid, user_movie_csr_train, user_features = user_features, k = 7).mean()\n",
    "precision_test = precision_at_k(model_hybrid, user_movie_csr_test, user_features = user_features, k = 7).mean()\n",
    "precision_train, precision_test "
   ]
  },
  {
   "cell_type": "markdown",
   "id": "11f295e8",
   "metadata": {},
   "source": [
    "### Export the results"
   ]
  },
  {
   "cell_type": "code",
   "execution_count": 22,
   "id": "1405794c",
   "metadata": {},
   "outputs": [],
   "source": [
    "movie_path = '../assets/final_movie.pkl'\n",
    "rating_path = '../assets/final_rating.pkl'\n",
    "model_path = '../assets/model.pkl'\n",
    "user_item_path = '../assets/user_movie_interaction.pkl'\n",
    "dataset_path = '../assets/dataset.pkl'\n",
    "user_feats_path = '../assets/user_feats.pkl'\n",
    "csr_path = '../assets/csr.pkl'"
   ]
  },
  {
   "cell_type": "code",
   "execution_count": 21,
   "id": "f923983b",
   "metadata": {},
   "outputs": [],
   "source": [
    "movie.to_pickle(movie_path)\n",
    "new_rating.to_pickle(rating_path)"
   ]
  },
  {
   "cell_type": "code",
   "execution_count": 23,
   "id": "016e44f4",
   "metadata": {},
   "outputs": [],
   "source": [
    "with open(model_path, 'wb') as m:\n",
    "    pickle.dump(model_hybrid, m)"
   ]
  },
  {
   "cell_type": "code",
   "execution_count": 24,
   "id": "de7557a9",
   "metadata": {},
   "outputs": [],
   "source": [
    "with open(user_item_path, 'wb') as u:\n",
    "    pickle.dump(user_movie_interaction, u)"
   ]
  },
  {
   "cell_type": "code",
   "execution_count": 25,
   "id": "ab0b738a",
   "metadata": {},
   "outputs": [],
   "source": [
    "with open(dataset_path, 'wb') as d:\n",
    "    pickle.dump(dataset, d)"
   ]
  },
  {
   "cell_type": "code",
   "execution_count": 26,
   "id": "f6ded44f",
   "metadata": {},
   "outputs": [],
   "source": [
    "with open(user_item_path, 'wb') as u:\n",
    "    pickle.dump(user_feats, u)"
   ]
  },
  {
   "cell_type": "code",
   "execution_count": 28,
   "id": "8611615c",
   "metadata": {},
   "outputs": [],
   "source": [
    "with open(csr_path, 'wb') as u:\n",
    "    pickle.dump(user_movie_csr, u)"
   ]
  }
 ],
 "metadata": {
  "kernelspec": {
   "display_name": "lightfm",
   "language": "python",
   "name": "lightfm"
  },
  "language_info": {
   "codemirror_mode": {
    "name": "ipython",
    "version": 3
   },
   "file_extension": ".py",
   "mimetype": "text/x-python",
   "name": "python",
   "nbconvert_exporter": "python",
   "pygments_lexer": "ipython3",
   "version": "3.9.0"
  }
 },
 "nbformat": 4,
 "nbformat_minor": 5
}
