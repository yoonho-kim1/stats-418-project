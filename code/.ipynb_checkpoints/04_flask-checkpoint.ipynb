{
 "cells": [
  {
   "cell_type": "code",
   "execution_count": 1,
   "id": "3ac3a51c",
   "metadata": {},
   "outputs": [],
   "source": [
    "import pandas as pd\n",
    "import numpy as np\n",
    "import random\n",
    "import os\n",
    "import time\n",
    "\n",
    "from flask import Flask\n",
    "from flask import request\n",
    "from flask import escape\n",
    "from flask import render_template\n",
    "from flask import url_for\n",
    "from flask import redirect\n",
    "\n",
    "from bokeh.embed import components\n",
    "from bokeh.plotting import figure\n",
    "#import <python file> function that will output the movie"
   ]
  },
  {
   "cell_type": "code",
   "execution_count": null,
   "id": "b0c6c055",
   "metadata": {
    "lines_to_next_cell": 0,
    "scrolled": true
   },
   "outputs": [
    {
     "name": "stdout",
     "output_type": "stream",
     "text": [
      " * Serving Flask app \"__main__\" (lazy loading)\n",
      " * Environment: production\n",
      "\u001b[31m   WARNING: This is a development server. Do not use it in a production deployment.\u001b[0m\n",
      "\u001b[2m   Use a production WSGI server instead.\u001b[0m\n",
      " * Debug mode: off\n"
     ]
    },
    {
     "name": "stderr",
     "output_type": "stream",
     "text": [
      " * Running on http://localhost:5000/ (Press CTRL+C to quit)\n",
      "127.0.0.1 - - [08/Mar/2023 13:28:31] \"GET / HTTP/1.1\" 200 -\n",
      "127.0.0.1 - - [08/Mar/2023 13:28:37] \"GET /modeling HTTP/1.1\" 200 -\n",
      "127.0.0.1 - - [08/Mar/2023 13:28:38] \"GET / HTTP/1.1\" 200 -\n",
      "127.0.0.1 - - [08/Mar/2023 13:28:39] \"GET /dashboard HTTP/1.1\" 200 -\n",
      "127.0.0.1 - - [08/Mar/2023 13:28:41] \"GET / HTTP/1.1\" 200 -\n"
     ]
    }
   ],
   "source": [
    "app = Flask(__name__, template_folder = 'templates', static_folder = 'static')\n",
    "\n",
    "@app.route('/')\n",
    "def homepage():\n",
    "    return render_template('index.html')\n",
    "\n",
    "\n",
    "\n",
    "@app.route('/recs', methods=['GET','POST'])\n",
    "def recs():\n",
    "    try:\n",
    "        if request.method == 'POST':\n",
    "            input_data = request.form\n",
    "            input_name = input_data.get('name')\n",
    "            if input_name == '':\n",
    "                return render_template('modeling.html')\n",
    "            #####\n",
    "            return f\"Woohoo, {input_name} is the best! Recommendations will be generated in  next version.\"\n",
    "            #####\n",
    "            #add above for page return after a movie is generated\n",
    "        \n",
    "        \n",
    "    except Exception as e:\n",
    "        print(e)\n",
    "        \n",
    "    if request.method == 'GET':\n",
    "        return redirect(url_for('modeling'))\n",
    "\n",
    "\n",
    "\n",
    "\n",
    "@app.route('/dashboard', methods=['GET','POST'])\n",
    "def dashboard():\n",
    "    return render_template('dashboard.html')\n",
    "\n",
    "@app.route('/modeling', methods=['POST','GET'])\n",
    "def modeling():\n",
    "    return render_template('modeling.html')\n",
    "    #if request.method == 'POST':\n",
    "        #input_data = request.form\n",
    "        #return render_template()\n",
    "        #return redirect(url_for('recs', input_movie=name))\n",
    "    \n",
    "    #return render_template('modeling.html')\n",
    "    #else:\n",
    "        #name = request.args.get('input_movie')\n",
    "        #return redirect(url_for('recs', input_movie=name))\n",
    "\n",
    "\n",
    "if __name__=='__main__':\n",
    "    app.run(host = 'localhost')"
   ]
  },
  {
   "cell_type": "code",
   "execution_count": null,
   "id": "a9eb554b",
   "metadata": {},
   "outputs": [],
   "source": []
  }
 ],
 "metadata": {
  "jupytext": {
   "cell_metadata_filter": "-all",
   "notebook_metadata_filter": "-all"
  },
  "kernelspec": {
   "display_name": "Python 3 (ipykernel)",
   "language": "python",
   "name": "python3"
  },
  "language_info": {
   "codemirror_mode": {
    "name": "ipython",
    "version": 3
   },
   "file_extension": ".py",
   "mimetype": "text/x-python",
   "name": "python",
   "nbconvert_exporter": "python",
   "pygments_lexer": "ipython3",
   "version": "3.9.12"
  }
 },
 "nbformat": 4,
 "nbformat_minor": 5
}
