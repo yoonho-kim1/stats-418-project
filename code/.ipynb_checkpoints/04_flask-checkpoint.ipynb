{
 "cells": [
  {
   "cell_type": "code",
   "execution_count": 1,
   "id": "3ac3a51c",
   "metadata": {},
   "outputs": [],
   "source": [
    "import pandas as pd\n",
    "import numpy as np\n",
    "import random\n",
    "import os\n",
    "import time\n",
    "\n",
    "from flask import Flask\n",
    "from flask import request\n",
    "from flask import escape\n",
    "from flask import render_template\n",
    "from flask import url_for\n",
    "from flask import redirect\n",
    "\n",
    "#import <python file> function that will output the movie"
   ]
  },
  {
   "cell_type": "code",
   "execution_count": null,
   "id": "b0c6c055",
   "metadata": {
    "lines_to_next_cell": 0,
    "scrolled": true
   },
   "outputs": [
    {
     "name": "stdout",
     "output_type": "stream",
     "text": [
      " * Serving Flask app \"__main__\" (lazy loading)\n",
      " * Environment: production\n",
      "\u001b[31m   WARNING: This is a development server. Do not use it in a production deployment.\u001b[0m\n",
      "\u001b[2m   Use a production WSGI server instead.\u001b[0m\n",
      " * Debug mode: off\n"
     ]
    },
    {
     "name": "stderr",
     "output_type": "stream",
     "text": [
      " * Running on http://localhost:5000/ (Press CTRL+C to quit)\n",
      "127.0.0.1 - - [14/Mar/2023 00:24:23] \"GET / HTTP/1.1\" 200 -\n",
      "127.0.0.1 - - [14/Mar/2023 00:24:26] \"GET /dashboard HTTP/1.1\" 200 -\n",
      "127.0.0.1 - - [14/Mar/2023 00:24:27] \"GET / HTTP/1.1\" 200 -\n",
      "127.0.0.1 - - [14/Mar/2023 00:24:28] \"GET /modeling HTTP/1.1\" 200 -\n",
      "127.0.0.1 - - [14/Mar/2023 00:25:49] \"GET / HTTP/1.1\" 200 -\n",
      "127.0.0.1 - - [14/Mar/2023 00:25:51] \"GET /modeling HTTP/1.1\" 200 -\n",
      "127.0.0.1 - - [14/Mar/2023 00:25:52] \"GET / HTTP/1.1\" 200 -\n",
      "127.0.0.1 - - [14/Mar/2023 00:25:53] \"GET /dashboard HTTP/1.1\" 200 -\n",
      "127.0.0.1 - - [14/Mar/2023 00:25:54] \"GET / HTTP/1.1\" 200 -\n",
      "127.0.0.1 - - [14/Mar/2023 00:27:56] \"GET /dashboard HTTP/1.1\" 200 -\n",
      "127.0.0.1 - - [14/Mar/2023 00:28:19] \"GET / HTTP/1.1\" 200 -\n",
      "127.0.0.1 - - [14/Mar/2023 00:28:20] \"GET /modeling HTTP/1.1\" 200 -\n",
      "127.0.0.1 - - [14/Mar/2023 00:28:22] \"GET / HTTP/1.1\" 200 -\n",
      "127.0.0.1 - - [14/Mar/2023 00:28:26] \"GET /modeling HTTP/1.1\" 200 -\n",
      "127.0.0.1 - - [14/Mar/2023 00:28:27] \"GET / HTTP/1.1\" 200 -\n",
      "127.0.0.1 - - [14/Mar/2023 00:28:28] \"GET /dashboard HTTP/1.1\" 200 -\n",
      "127.0.0.1 - - [14/Mar/2023 00:28:29] \"GET / HTTP/1.1\" 200 -\n",
      "127.0.0.1 - - [14/Mar/2023 00:28:31] \"GET /modeling HTTP/1.1\" 200 -\n",
      "127.0.0.1 - - [14/Mar/2023 00:28:43] \"POST /recs HTTP/1.1\" 200 -\n",
      "127.0.0.1 - - [14/Mar/2023 00:28:46] \"POST /recs HTTP/1.1\" 200 -\n",
      "127.0.0.1 - - [14/Mar/2023 00:28:56] \"GET / HTTP/1.1\" 200 -\n",
      "127.0.0.1 - - [14/Mar/2023 00:28:57] \"GET /modeling HTTP/1.1\" 200 -\n",
      "127.0.0.1 - - [14/Mar/2023 00:28:58] \"POST /recs HTTP/1.1\" 200 -\n"
     ]
    }
   ],
   "source": [
    "app = Flask(__name__, template_folder = 'templates', static_folder = 'static')\n",
    "\n",
    "@app.route('/')\n",
    "def homepage():\n",
    "    return render_template('index.html')\n",
    "\n",
    "\n",
    "\n",
    "@app.route('/recs', methods=['GET','POST'])\n",
    "def recs():\n",
    "    try:\n",
    "        if request.method == 'POST':\n",
    "            input_data = request.form\n",
    "            #input_user = input_data.get('user')\n",
    "            input_name = input_data.get('name')\n",
    "            input_genre = input_data.get('genre')\n",
    "            if input_name == '':\n",
    "                return render_template('modeling.html')\n",
    "            #####\n",
    "            return f\"Woohoo, {input_name} is the best! Recommendations for {input_genre} movies \\\n",
    "            will be generated in next version.\"\n",
    "            #####\n",
    "            #add above for page return after a movie is generated\n",
    "        \n",
    "        \n",
    "    except Exception as e:\n",
    "        print(e)\n",
    "        \n",
    "    if request.method == 'GET':\n",
    "        return redirect(url_for('modeling'))\n",
    "\n",
    "\n",
    "\n",
    "\n",
    "@app.route('/dashboard', methods=['GET','POST'])\n",
    "def attempt():\n",
    "    return render_template('myrange_slider.html')\n",
    "\n",
    "\n",
    "\n",
    "@app.route('/modeling', methods=['POST','GET'])\n",
    "def modeling():\n",
    "    return render_template('modeling.html')\n",
    "    #if request.method == 'POST':\n",
    "        #input_data = request.form\n",
    "        #return render_template()\n",
    "        #return redirect(url_for('recs', input_movie=name))\n",
    "    \n",
    "    #return render_template('modeling.html')\n",
    "    #else:\n",
    "        #name = request.args.get('input_movie')\n",
    "        #return redirect(url_for('recs', input_movie=name))\n",
    "\n",
    "\n",
    "if __name__=='__main__':\n",
    "    app.run(host = 'localhost')"
   ]
  },
  {
   "cell_type": "code",
   "execution_count": null,
   "id": "9a9452ab",
   "metadata": {},
   "outputs": [],
   "source": []
  }
 ],
 "metadata": {
  "jupytext": {
   "cell_metadata_filter": "-all",
   "notebook_metadata_filter": "-all"
  },
  "kernelspec": {
   "display_name": "Python 3 (ipykernel)",
   "language": "python",
   "name": "python3"
  },
  "language_info": {
   "codemirror_mode": {
    "name": "ipython",
    "version": 3
   },
   "file_extension": ".py",
   "mimetype": "text/x-python",
   "name": "python",
   "nbconvert_exporter": "python",
   "pygments_lexer": "ipython3",
   "version": "3.9.12"
  }
 },
 "nbformat": 4,
 "nbformat_minor": 5
}
