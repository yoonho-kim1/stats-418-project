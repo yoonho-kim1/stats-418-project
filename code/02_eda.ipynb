{
 "cells": [
  {
   "cell_type": "markdown",
   "id": "cf4ecb9a",
   "metadata": {},
   "source": [
    "### Import Libraries"
   ]
  },
  {
   "cell_type": "code",
   "execution_count": 1,
   "id": "88ec3877",
   "metadata": {},
   "outputs": [
    {
     "name": "stderr",
     "output_type": "stream",
     "text": [
      "/Users/yoonhokim/miniforge3/envs/tensorflow/lib/python3.9/site-packages/scipy/__init__.py:146: UserWarning: A NumPy version >=1.16.5 and <1.23.0 is required for this version of SciPy (detected version 1.24.2\n",
      "  warnings.warn(f\"A NumPy version >={np_minversion} and <{np_maxversion}\"\n"
     ]
    }
   ],
   "source": [
    "import pandas as pd\n",
    "import numpy as np\n",
    "import os\n",
    "import re\n",
    "import pickle\n",
    "import matplotlib.pyplot as plt\n",
    "import seaborn as sns\n",
    "%matplotlib inline\n",
    "pd.set_option('display.max_columns', None)"
   ]
  },
  {
   "cell_type": "markdown",
   "id": "17882249",
   "metadata": {},
   "source": [
    "### Import data"
   ]
  },
  {
   "cell_type": "markdown",
   "id": "42c4902d",
   "metadata": {},
   "source": [
    "- movie"
   ]
  },
  {
   "cell_type": "markdown",
   "id": "3d020000",
   "metadata": {},
   "source": [
    "when you work on specific data frames, just use movie or rating rather than the combined one for now. "
   ]
  },
  {
   "cell_type": "code",
   "execution_count": 2,
   "id": "7a71f71a",
   "metadata": {},
   "outputs": [],
   "source": [
    "movie = pd.read_pickle('../assets/movie.pkl')"
   ]
  },
  {
   "cell_type": "code",
   "execution_count": 3,
   "id": "31c6e92f",
   "metadata": {
    "scrolled": true
   },
   "outputs": [
    {
     "name": "stdout",
     "output_type": "stream",
     "text": [
      "<class 'pandas.core.frame.DataFrame'>\n",
      "Int64Index: 45528 entries, 0 to 45527\n",
      "Data columns (total 25 columns):\n",
      " #   Column               Non-Null Count  Dtype  \n",
      "---  ------               --------------  -----  \n",
      " 0   id                   45528 non-null  object \n",
      " 1   original_title       45528 non-null  object \n",
      " 2   action               45525 non-null  float64\n",
      " 3   adventure            45525 non-null  float64\n",
      " 4   animation            45525 non-null  float64\n",
      " 5   comedy               45525 non-null  float64\n",
      " 6   crime                45525 non-null  float64\n",
      " 7   documentary          45525 non-null  float64\n",
      " 8   drama                45525 non-null  float64\n",
      " 9   family               45525 non-null  float64\n",
      " 10  fantasy              45525 non-null  float64\n",
      " 11  fiction              45525 non-null  float64\n",
      " 12  foreign              45525 non-null  float64\n",
      " 13  genre_not_specified  45525 non-null  float64\n",
      " 14  history              45525 non-null  float64\n",
      " 15  horror               45525 non-null  float64\n",
      " 16  movie                45525 non-null  float64\n",
      " 17  music                45525 non-null  float64\n",
      " 18  mystery              45525 non-null  float64\n",
      " 19  romance              45525 non-null  float64\n",
      " 20  science              45525 non-null  float64\n",
      " 21  thriller             45525 non-null  float64\n",
      " 22  tv                   45525 non-null  float64\n",
      " 23  war                  45525 non-null  float64\n",
      " 24  western              45525 non-null  float64\n",
      "dtypes: float64(23), object(2)\n",
      "memory usage: 9.0+ MB\n"
     ]
    }
   ],
   "source": [
    "movie.info()"
   ]
  },
  {
   "cell_type": "code",
   "execution_count": 20,
   "id": "c3f04651",
   "metadata": {},
   "outputs": [
    {
     "data": {
      "text/plain": [
       "count    45528.000000\n",
       "mean         2.142110\n",
       "std          1.167751\n",
       "min          0.000000\n",
       "25%          1.000000\n",
       "50%          2.000000\n",
       "75%          3.000000\n",
       "max          9.000000\n",
       "dtype: float64"
      ]
     },
     "execution_count": 20,
     "metadata": {},
     "output_type": "execute_result"
    }
   ],
   "source": [
    "np.sum(movie, axis = 1).describe()"
   ]
  },
  {
   "cell_type": "code",
   "execution_count": 21,
   "id": "5cc252f6",
   "metadata": {},
   "outputs": [
    {
     "name": "stderr",
     "output_type": "stream",
     "text": [
      "/Users/yoonhokim/miniforge3/envs/tensorflow/lib/python3.9/site-packages/numpy/core/fromnumeric.py:84: FutureWarning: Dropping of nuisance columns in DataFrame reductions (with 'numeric_only=None') is deprecated; in a future version this will raise TypeError.  Select only valid columns before calling the reduction.\n",
      "  return reduction(axis=axis, out=out, **passkwargs)\n",
      "/var/folders/t9/5hgq421x4xsgvkp8nd2kx4fw0000gn/T/ipykernel_1509/1973286955.py:1: UserWarning: \n",
      "\n",
      "`distplot` is a deprecated function and will be removed in seaborn v0.14.0.\n",
      "\n",
      "Please adapt your code to use either `displot` (a figure-level function with\n",
      "similar flexibility) or `histplot` (an axes-level function for histograms).\n",
      "\n",
      "For a guide to updating your code to use the new functions, please see\n",
      "https://gist.github.com/mwaskom/de44147ed2974457ad6372750bbe5751\n",
      "\n",
      "  sns.distplot(np.sum(movie, axis = 1))\n"
     ]
    },
    {
     "data": {
      "text/plain": [
       "<AxesSubplot:ylabel='Density'>"
      ]
     },
     "execution_count": 21,
     "metadata": {},
     "output_type": "execute_result"
    },
    {
     "data": {
      "image/png": "[encoded data removed]",
      "text/plain": [
       "<Figure size 432x288 with 1 Axes>"
      ]
     },
     "metadata": {
      "needs_background": "light"
     },
     "output_type": "display_data"
    }
   ],
   "source": [
    "sns.distplot(np.sum(movie, axis = 1))"
   ]
  },
  {
   "cell_type": "code",
   "execution_count": 4,
   "id": "c61534aa",
   "metadata": {},
   "outputs": [],
   "source": [
    "genre_counts =  pd.DataFrame(np.sum(movie, axis = 0)[2:]).reset_index()\\\n",
    ".rename(columns = {'index': 'genre', 0:'counts'})\\\n",
    ".sort_values(by = 'counts', ascending = False)"
   ]
  },
  {
   "cell_type": "code",
   "execution_count": 18,
   "id": "2a80de50",
   "metadata": {},
   "outputs": [
    {
     "data": {
      "image/png": "[encoded data removed]",
      "text/plain": [
       "<Figure size 1440x720 with 1 Axes>"
      ]
     },
     "metadata": {
      "needs_background": "light"
     },
     "output_type": "display_data"
    }
   ],
   "source": [
    "plt.figure(figsize = (20, 10))\n",
    "plt.title(\"Genre Counts in the Movie Dataset\", fontsize = 20)\n",
    "sns.barplot(data = genre_counts,\n",
    "            x = 'genre',\n",
    "            y = 'counts',\n",
    "            color = 'blue',\n",
    "            alpha = 0.7)\n",
    "plt.xlabel('')\n",
    "plt.ylabel('')\n",
    "plt.xticks(fontsize = 12,\n",
    "           rotation = 45)\n",
    "plt.yticks(fontsize = 12);"
   ]
  },
  {
   "cell_type": "code",
   "execution_count": null,
   "id": "2b6f7756",
   "metadata": {},
   "outputs": [],
   "source": []
  },
  {
   "cell_type": "code",
   "execution_count": 12,
   "id": "49268c3f",
   "metadata": {},
   "outputs": [],
   "source": [
    "df = pd.read_pickle('../assets/df.pkl')"
   ]
  },
  {
   "cell_type": "code",
   "execution_count": 13,
   "id": "a56c0e48",
   "metadata": {},
   "outputs": [
    {
     "data": {
      "text/plain": [
       "11477723"
      ]
     },
     "execution_count": 13,
     "metadata": {},
     "output_type": "execute_result"
    }
   ],
   "source": [
    "len(df)"
   ]
  },
  {
   "cell_type": "markdown",
   "id": "18203627",
   "metadata": {},
   "source": [
    "### Movie"
   ]
  },
  {
   "cell_type": "code",
   "execution_count": 14,
   "id": "1f8c4bdb",
   "metadata": {},
   "outputs": [
    {
     "data": {
      "text/html": [
       "<div>\n",
       "<style scoped>\n",
       "    .dataframe tbody tr th:only-of-type {\n",
       "        vertical-align: middle;\n",
       "    }\n",
       "\n",
       "    .dataframe tbody tr th {\n",
       "        vertical-align: top;\n",
       "    }\n",
       "\n",
       "    .dataframe thead th {\n",
       "        text-align: right;\n",
       "    }\n",
       "</style>\n",
       "<table border=\"1\" class=\"dataframe\">\n",
       "  <thead>\n",
       "    <tr style=\"text-align: right;\">\n",
       "      <th></th>\n",
       "      <th>adult</th>\n",
       "      <th>budget</th>\n",
       "      <th>id</th>\n",
       "      <th>original_title</th>\n",
       "      <th>overview</th>\n",
       "      <th>popularity</th>\n",
       "      <th>revenue</th>\n",
       "      <th>runtime</th>\n",
       "      <th>genre_unlisted</th>\n",
       "      <th>userId</th>\n",
       "      <th>rating</th>\n",
       "      <th>action</th>\n",
       "      <th>adventure</th>\n",
       "      <th>animation</th>\n",
       "      <th>comedy</th>\n",
       "      <th>crime</th>\n",
       "      <th>documentary</th>\n",
       "      <th>drama</th>\n",
       "      <th>family</th>\n",
       "      <th>fantasy</th>\n",
       "      <th>fiction</th>\n",
       "      <th>foreign</th>\n",
       "      <th>genre_not_specified</th>\n",
       "      <th>history</th>\n",
       "      <th>horror</th>\n",
       "      <th>movie</th>\n",
       "      <th>music</th>\n",
       "      <th>mystery</th>\n",
       "      <th>romance</th>\n",
       "      <th>science</th>\n",
       "      <th>thriller</th>\n",
       "      <th>tv</th>\n",
       "      <th>war</th>\n",
       "      <th>western</th>\n",
       "    </tr>\n",
       "  </thead>\n",
       "  <tbody>\n",
       "    <tr>\n",
       "      <th>0</th>\n",
       "      <td>False</td>\n",
       "      <td>30000000</td>\n",
       "      <td>862</td>\n",
       "      <td>Toy Story</td>\n",
       "      <td>Led by Woody, Andy's toys live happily in his ...</td>\n",
       "      <td>21.946943</td>\n",
       "      <td>373554033.0</td>\n",
       "      <td>81.0</td>\n",
       "      <td>Animation, Comedy, Family</td>\n",
       "      <td>1923.0</td>\n",
       "      <td>3.0</td>\n",
       "      <td>0</td>\n",
       "      <td>0</td>\n",
       "      <td>1</td>\n",
       "      <td>1</td>\n",
       "      <td>0</td>\n",
       "      <td>0</td>\n",
       "      <td>0</td>\n",
       "      <td>1</td>\n",
       "      <td>0</td>\n",
       "      <td>0</td>\n",
       "      <td>0</td>\n",
       "      <td>0</td>\n",
       "      <td>0</td>\n",
       "      <td>0</td>\n",
       "      <td>0</td>\n",
       "      <td>0</td>\n",
       "      <td>0</td>\n",
       "      <td>0</td>\n",
       "      <td>0</td>\n",
       "      <td>0</td>\n",
       "      <td>0</td>\n",
       "      <td>0</td>\n",
       "      <td>0</td>\n",
       "    </tr>\n",
       "    <tr>\n",
       "      <th>1</th>\n",
       "      <td>False</td>\n",
       "      <td>30000000</td>\n",
       "      <td>862</td>\n",
       "      <td>Toy Story</td>\n",
       "      <td>Led by Woody, Andy's toys live happily in his ...</td>\n",
       "      <td>21.946943</td>\n",
       "      <td>373554033.0</td>\n",
       "      <td>81.0</td>\n",
       "      <td>Animation, Comedy, Family</td>\n",
       "      <td>2103.0</td>\n",
       "      <td>5.0</td>\n",
       "      <td>0</td>\n",
       "      <td>0</td>\n",
       "      <td>1</td>\n",
       "      <td>1</td>\n",
       "      <td>0</td>\n",
       "      <td>0</td>\n",
       "      <td>0</td>\n",
       "      <td>1</td>\n",
       "      <td>0</td>\n",
       "      <td>0</td>\n",
       "      <td>0</td>\n",
       "      <td>0</td>\n",
       "      <td>0</td>\n",
       "      <td>0</td>\n",
       "      <td>0</td>\n",
       "      <td>0</td>\n",
       "      <td>0</td>\n",
       "      <td>0</td>\n",
       "      <td>0</td>\n",
       "      <td>0</td>\n",
       "      <td>0</td>\n",
       "      <td>0</td>\n",
       "      <td>0</td>\n",
       "    </tr>\n",
       "    <tr>\n",
       "      <th>2</th>\n",
       "      <td>False</td>\n",
       "      <td>30000000</td>\n",
       "      <td>862</td>\n",
       "      <td>Toy Story</td>\n",
       "      <td>Led by Woody, Andy's toys live happily in his ...</td>\n",
       "      <td>21.946943</td>\n",
       "      <td>373554033.0</td>\n",
       "      <td>81.0</td>\n",
       "      <td>Animation, Comedy, Family</td>\n",
       "      <td>5380.0</td>\n",
       "      <td>1.0</td>\n",
       "      <td>0</td>\n",
       "      <td>0</td>\n",
       "      <td>1</td>\n",
       "      <td>1</td>\n",
       "      <td>0</td>\n",
       "      <td>0</td>\n",
       "      <td>0</td>\n",
       "      <td>1</td>\n",
       "      <td>0</td>\n",
       "      <td>0</td>\n",
       "      <td>0</td>\n",
       "      <td>0</td>\n",
       "      <td>0</td>\n",
       "      <td>0</td>\n",
       "      <td>0</td>\n",
       "      <td>0</td>\n",
       "      <td>0</td>\n",
       "      <td>0</td>\n",
       "      <td>0</td>\n",
       "      <td>0</td>\n",
       "      <td>0</td>\n",
       "      <td>0</td>\n",
       "      <td>0</td>\n",
       "    </tr>\n",
       "    <tr>\n",
       "      <th>3</th>\n",
       "      <td>False</td>\n",
       "      <td>30000000</td>\n",
       "      <td>862</td>\n",
       "      <td>Toy Story</td>\n",
       "      <td>Led by Woody, Andy's toys live happily in his ...</td>\n",
       "      <td>21.946943</td>\n",
       "      <td>373554033.0</td>\n",
       "      <td>81.0</td>\n",
       "      <td>Animation, Comedy, Family</td>\n",
       "      <td>6177.0</td>\n",
       "      <td>4.0</td>\n",
       "      <td>0</td>\n",
       "      <td>0</td>\n",
       "      <td>1</td>\n",
       "      <td>1</td>\n",
       "      <td>0</td>\n",
       "      <td>0</td>\n",
       "      <td>0</td>\n",
       "      <td>1</td>\n",
       "      <td>0</td>\n",
       "      <td>0</td>\n",
       "      <td>0</td>\n",
       "      <td>0</td>\n",
       "      <td>0</td>\n",
       "      <td>0</td>\n",
       "      <td>0</td>\n",
       "      <td>0</td>\n",
       "      <td>0</td>\n",
       "      <td>0</td>\n",
       "      <td>0</td>\n",
       "      <td>0</td>\n",
       "      <td>0</td>\n",
       "      <td>0</td>\n",
       "      <td>0</td>\n",
       "    </tr>\n",
       "    <tr>\n",
       "      <th>4</th>\n",
       "      <td>False</td>\n",
       "      <td>30000000</td>\n",
       "      <td>862</td>\n",
       "      <td>Toy Story</td>\n",
       "      <td>Led by Woody, Andy's toys live happily in his ...</td>\n",
       "      <td>21.946943</td>\n",
       "      <td>373554033.0</td>\n",
       "      <td>81.0</td>\n",
       "      <td>Animation, Comedy, Family</td>\n",
       "      <td>6525.0</td>\n",
       "      <td>4.0</td>\n",
       "      <td>0</td>\n",
       "      <td>0</td>\n",
       "      <td>1</td>\n",
       "      <td>1</td>\n",
       "      <td>0</td>\n",
       "      <td>0</td>\n",
       "      <td>0</td>\n",
       "      <td>1</td>\n",
       "      <td>0</td>\n",
       "      <td>0</td>\n",
       "      <td>0</td>\n",
       "      <td>0</td>\n",
       "      <td>0</td>\n",
       "      <td>0</td>\n",
       "      <td>0</td>\n",
       "      <td>0</td>\n",
       "      <td>0</td>\n",
       "      <td>0</td>\n",
       "      <td>0</td>\n",
       "      <td>0</td>\n",
       "      <td>0</td>\n",
       "      <td>0</td>\n",
       "      <td>0</td>\n",
       "    </tr>\n",
       "  </tbody>\n",
       "</table>\n",
       "</div>"
      ],
      "text/plain": [
       "   adult    budget   id original_title  \\\n",
       "0  False  30000000  862      Toy Story   \n",
       "1  False  30000000  862      Toy Story   \n",
       "2  False  30000000  862      Toy Story   \n",
       "3  False  30000000  862      Toy Story   \n",
       "4  False  30000000  862      Toy Story   \n",
       "\n",
       "                                            overview popularity      revenue  \\\n",
       "0  Led by Woody, Andy's toys live happily in his ...  21.946943  373554033.0   \n",
       "1  Led by Woody, Andy's toys live happily in his ...  21.946943  373554033.0   \n",
       "2  Led by Woody, Andy's toys live happily in his ...  21.946943  373554033.0   \n",
       "3  Led by Woody, Andy's toys live happily in his ...  21.946943  373554033.0   \n",
       "4  Led by Woody, Andy's toys live happily in his ...  21.946943  373554033.0   \n",
       "\n",
       "   runtime             genre_unlisted  userId  rating  action  adventure  \\\n",
       "0     81.0  Animation, Comedy, Family  1923.0     3.0       0          0   \n",
       "1     81.0  Animation, Comedy, Family  2103.0     5.0       0          0   \n",
       "2     81.0  Animation, Comedy, Family  5380.0     1.0       0          0   \n",
       "3     81.0  Animation, Comedy, Family  6177.0     4.0       0          0   \n",
       "4     81.0  Animation, Comedy, Family  6525.0     4.0       0          0   \n",
       "\n",
       "   animation  comedy  crime  documentary  drama  family  fantasy  fiction  \\\n",
       "0          1       1      0            0      0       1        0        0   \n",
       "1          1       1      0            0      0       1        0        0   \n",
       "2          1       1      0            0      0       1        0        0   \n",
       "3          1       1      0            0      0       1        0        0   \n",
       "4          1       1      0            0      0       1        0        0   \n",
       "\n",
       "   foreign  genre_not_specified  history  horror  movie  music  mystery  \\\n",
       "0        0                    0        0       0      0      0        0   \n",
       "1        0                    0        0       0      0      0        0   \n",
       "2        0                    0        0       0      0      0        0   \n",
       "3        0                    0        0       0      0      0        0   \n",
       "4        0                    0        0       0      0      0        0   \n",
       "\n",
       "   romance  science  thriller  tv  war  western  \n",
       "0        0        0         0   0    0        0  \n",
       "1        0        0         0   0    0        0  \n",
       "2        0        0         0   0    0        0  \n",
       "3        0        0         0   0    0        0  \n",
       "4        0        0         0   0    0        0  "
      ]
     },
     "execution_count": 14,
     "metadata": {},
     "output_type": "execute_result"
    }
   ],
   "source": [
    "df.head()"
   ]
  },
  {
   "cell_type": "code",
   "execution_count": 33,
   "id": "bb3f7906",
   "metadata": {},
   "outputs": [
    {
     "data": {
      "text/plain": [
       "Index(['adult', 'budget', 'id', 'original_title', 'overview', 'popularity',\n",
       "       'revenue', 'runtime', 'genre_unlisted', 'userId', 'rating', 'action',\n",
       "       'adventure', 'animation', 'comedy', 'crime', 'documentary', 'drama',\n",
       "       'family', 'fantasy', 'fiction', 'foreign', 'genre_not_specified',\n",
       "       'history', 'horror', 'movie', 'music', 'mystery', 'romance', 'science',\n",
       "       'thriller', 'tv', 'war', 'western'],\n",
       "      dtype='object')"
      ]
     },
     "execution_count": 33,
     "metadata": {},
     "output_type": "execute_result"
    }
   ],
   "source": [
    "df.columns"
   ]
  },
  {
   "cell_type": "code",
   "execution_count": 35,
   "id": "d0aa80d4",
   "metadata": {},
   "outputs": [
    {
     "data": {
      "text/plain": [
       "37948"
      ]
     },
     "execution_count": 35,
     "metadata": {},
     "output_type": "execute_result"
    }
   ],
   "source": [
    "len(df[df.rating.isnull()])"
   ]
  },
  {
   "cell_type": "code",
   "execution_count": 38,
   "id": "f302703a",
   "metadata": {},
   "outputs": [
    {
     "data": {
      "text/plain": [
       "11439775"
      ]
     },
     "execution_count": 38,
     "metadata": {},
     "output_type": "execute_result"
    }
   ],
   "source": [
    "len(df[~df.rating.isnull()])"
   ]
  },
  {
   "cell_type": "code",
   "execution_count": 5,
   "id": "93410b20",
   "metadata": {
    "scrolled": true
   },
   "outputs": [
    {
     "data": {
      "text/plain": [
       "Index(['adult', 'budget', 'id', 'original_title', 'overview', 'popularity',\n",
       "       'revenue', 'runtime', 'genre_unlisted', 'userId', 'rating', 'action',\n",
       "       'adventure', 'animation', 'comedy', 'crime', 'documentary', 'drama',\n",
       "       'family', 'fantasy', 'fiction', 'foreign', 'genre_not_specified',\n",
       "       'history', 'horror', 'movie', 'music', 'mystery', 'romance', 'science',\n",
       "       'thriller', 'tv', 'war', 'western'],\n",
       "      dtype='object')"
      ]
     },
     "execution_count": 5,
     "metadata": {},
     "output_type": "execute_result"
    }
   ],
   "source": [
    "df.columns"
   ]
  },
  {
   "cell_type": "code",
   "execution_count": 17,
   "id": "fa3039f4",
   "metadata": {},
   "outputs": [],
   "source": [
    "movie_features = ['id', 'original_title', 'adult', 'overview', 'popularity', \n",
    "                  'revenue', 'runtime', 'genre_unlisted', 'action', 'adventure',\n",
    "                  'animation', 'comedy', 'crime', 'documentary', 'drama', 'family',\n",
    "                  'fantasy', 'fiction', 'foreign', 'genre_not_specified', 'history',\n",
    "                  'horror', 'movie', 'music', 'mystery', 'romance', 'science',\n",
    "                  'thriller', 'tv', 'war', 'western']"
   ]
  },
  {
   "cell_type": "code",
   "execution_count": 18,
   "id": "76b90edf",
   "metadata": {},
   "outputs": [],
   "source": [
    "movie_df = df[movie_features]"
   ]
  },
  {
   "cell_type": "code",
   "execution_count": 19,
   "id": "7282de7f",
   "metadata": {},
   "outputs": [
    {
     "name": "stderr",
     "output_type": "stream",
     "text": [
      "/Users/yoonhokim/miniforge3/envs/tensorflow/lib/python3.9/site-packages/pandas/util/_decorators.py:311: SettingWithCopyWarning: \n",
      "A value is trying to be set on a copy of a slice from a DataFrame\n",
      "\n",
      "See the caveats in the documentation: https://pandas.pydata.org/pandas-docs/stable/user_guide/indexing.html#returning-a-view-versus-a-copy\n",
      "  return func(*args, **kwargs)\n"
     ]
    }
   ],
   "source": [
    "movie_df.drop_duplicates(subset = ['id'], inplace = True)"
   ]
  },
  {
   "cell_type": "markdown",
   "id": "df440a7d",
   "metadata": {},
   "source": [
    "drop duplicate values"
   ]
  },
  {
   "cell_type": "code",
   "execution_count": 9,
   "id": "7318c964",
   "metadata": {},
   "outputs": [],
   "source": [
    "movie_df = movie_df.reset_index().drop(columns = ['index'])"
   ]
  },
  {
   "cell_type": "code",
   "execution_count": 10,
   "id": "a62e303a",
   "metadata": {},
   "outputs": [
    {
     "data": {
      "text/html": [
       "<div>\n",
       "<style scoped>\n",
       "    .dataframe tbody tr th:only-of-type {\n",
       "        vertical-align: middle;\n",
       "    }\n",
       "\n",
       "    .dataframe tbody tr th {\n",
       "        vertical-align: top;\n",
       "    }\n",
       "\n",
       "    .dataframe thead th {\n",
       "        text-align: right;\n",
       "    }\n",
       "</style>\n",
       "<table border=\"1\" class=\"dataframe\">\n",
       "  <thead>\n",
       "    <tr style=\"text-align: right;\">\n",
       "      <th></th>\n",
       "      <th>id</th>\n",
       "      <th>original_title</th>\n",
       "      <th>adult</th>\n",
       "      <th>overview</th>\n",
       "      <th>popularity</th>\n",
       "      <th>revenue</th>\n",
       "      <th>runtime</th>\n",
       "      <th>genre_unlisted</th>\n",
       "      <th>action</th>\n",
       "      <th>adventure</th>\n",
       "      <th>...</th>\n",
       "      <th>horror</th>\n",
       "      <th>movie</th>\n",
       "      <th>music</th>\n",
       "      <th>mystery</th>\n",
       "      <th>romance</th>\n",
       "      <th>science</th>\n",
       "      <th>thriller</th>\n",
       "      <th>tv</th>\n",
       "      <th>war</th>\n",
       "      <th>western</th>\n",
       "    </tr>\n",
       "  </thead>\n",
       "  <tbody>\n",
       "    <tr>\n",
       "      <th>0</th>\n",
       "      <td>862</td>\n",
       "      <td>Toy Story</td>\n",
       "      <td>False</td>\n",
       "      <td>Led by Woody, Andy's toys live happily in his ...</td>\n",
       "      <td>21.946943</td>\n",
       "      <td>373554033.0</td>\n",
       "      <td>81.0</td>\n",
       "      <td>Animation, Comedy, Family</td>\n",
       "      <td>0</td>\n",
       "      <td>0</td>\n",
       "      <td>...</td>\n",
       "      <td>0</td>\n",
       "      <td>0</td>\n",
       "      <td>0</td>\n",
       "      <td>0</td>\n",
       "      <td>0</td>\n",
       "      <td>0</td>\n",
       "      <td>0</td>\n",
       "      <td>0</td>\n",
       "      <td>0</td>\n",
       "      <td>0</td>\n",
       "    </tr>\n",
       "    <tr>\n",
       "      <th>1</th>\n",
       "      <td>8844</td>\n",
       "      <td>Jumanji</td>\n",
       "      <td>False</td>\n",
       "      <td>When siblings Judy and Peter discover an encha...</td>\n",
       "      <td>17.015539</td>\n",
       "      <td>262797249.0</td>\n",
       "      <td>104.0</td>\n",
       "      <td>Adventure, Fantasy, Family</td>\n",
       "      <td>0</td>\n",
       "      <td>1</td>\n",
       "      <td>...</td>\n",
       "      <td>0</td>\n",
       "      <td>0</td>\n",
       "      <td>0</td>\n",
       "      <td>0</td>\n",
       "      <td>0</td>\n",
       "      <td>0</td>\n",
       "      <td>0</td>\n",
       "      <td>0</td>\n",
       "      <td>0</td>\n",
       "      <td>0</td>\n",
       "    </tr>\n",
       "    <tr>\n",
       "      <th>2</th>\n",
       "      <td>15602</td>\n",
       "      <td>Grumpier Old Men</td>\n",
       "      <td>False</td>\n",
       "      <td>A family wedding reignites the ancient feud be...</td>\n",
       "      <td>11.7129</td>\n",
       "      <td>0.0</td>\n",
       "      <td>101.0</td>\n",
       "      <td>Romance, Comedy</td>\n",
       "      <td>0</td>\n",
       "      <td>0</td>\n",
       "      <td>...</td>\n",
       "      <td>0</td>\n",
       "      <td>0</td>\n",
       "      <td>0</td>\n",
       "      <td>0</td>\n",
       "      <td>1</td>\n",
       "      <td>0</td>\n",
       "      <td>0</td>\n",
       "      <td>0</td>\n",
       "      <td>0</td>\n",
       "      <td>0</td>\n",
       "    </tr>\n",
       "    <tr>\n",
       "      <th>3</th>\n",
       "      <td>31357</td>\n",
       "      <td>Waiting to Exhale</td>\n",
       "      <td>False</td>\n",
       "      <td>Cheated on, mistreated and stepped on, the wom...</td>\n",
       "      <td>3.859495</td>\n",
       "      <td>81452156.0</td>\n",
       "      <td>127.0</td>\n",
       "      <td>Comedy, Drama, Romance</td>\n",
       "      <td>0</td>\n",
       "      <td>0</td>\n",
       "      <td>...</td>\n",
       "      <td>0</td>\n",
       "      <td>0</td>\n",
       "      <td>0</td>\n",
       "      <td>0</td>\n",
       "      <td>1</td>\n",
       "      <td>0</td>\n",
       "      <td>0</td>\n",
       "      <td>0</td>\n",
       "      <td>0</td>\n",
       "      <td>0</td>\n",
       "    </tr>\n",
       "    <tr>\n",
       "      <th>4</th>\n",
       "      <td>11862</td>\n",
       "      <td>Father of the Bride Part II</td>\n",
       "      <td>False</td>\n",
       "      <td>Just when George Banks has recovered from his ...</td>\n",
       "      <td>8.387519</td>\n",
       "      <td>76578911.0</td>\n",
       "      <td>106.0</td>\n",
       "      <td>Comedy</td>\n",
       "      <td>0</td>\n",
       "      <td>0</td>\n",
       "      <td>...</td>\n",
       "      <td>0</td>\n",
       "      <td>0</td>\n",
       "      <td>0</td>\n",
       "      <td>0</td>\n",
       "      <td>0</td>\n",
       "      <td>0</td>\n",
       "      <td>0</td>\n",
       "      <td>0</td>\n",
       "      <td>0</td>\n",
       "      <td>0</td>\n",
       "    </tr>\n",
       "  </tbody>\n",
       "</table>\n",
       "<p>5 rows × 31 columns</p>\n",
       "</div>"
      ],
      "text/plain": [
       "      id               original_title  adult  \\\n",
       "0    862                    Toy Story  False   \n",
       "1   8844                      Jumanji  False   \n",
       "2  15602             Grumpier Old Men  False   \n",
       "3  31357            Waiting to Exhale  False   \n",
       "4  11862  Father of the Bride Part II  False   \n",
       "\n",
       "                                            overview popularity      revenue  \\\n",
       "0  Led by Woody, Andy's toys live happily in his ...  21.946943  373554033.0   \n",
       "1  When siblings Judy and Peter discover an encha...  17.015539  262797249.0   \n",
       "2  A family wedding reignites the ancient feud be...    11.7129          0.0   \n",
       "3  Cheated on, mistreated and stepped on, the wom...   3.859495   81452156.0   \n",
       "4  Just when George Banks has recovered from his ...   8.387519   76578911.0   \n",
       "\n",
       "   runtime              genre_unlisted  action  adventure  ...  horror  movie  \\\n",
       "0     81.0   Animation, Comedy, Family       0          0  ...       0      0   \n",
       "1    104.0  Adventure, Fantasy, Family       0          1  ...       0      0   \n",
       "2    101.0             Romance, Comedy       0          0  ...       0      0   \n",
       "3    127.0      Comedy, Drama, Romance       0          0  ...       0      0   \n",
       "4    106.0                      Comedy       0          0  ...       0      0   \n",
       "\n",
       "   music  mystery  romance  science  thriller  tv  war  western  \n",
       "0      0        0        0        0         0   0    0        0  \n",
       "1      0        0        0        0         0   0    0        0  \n",
       "2      0        0        1        0         0   0    0        0  \n",
       "3      0        0        1        0         0   0    0        0  \n",
       "4      0        0        0        0         0   0    0        0  \n",
       "\n",
       "[5 rows x 31 columns]"
      ]
     },
     "execution_count": 10,
     "metadata": {},
     "output_type": "execute_result"
    }
   ],
   "source": [
    "movie_df.head()"
   ]
  },
  {
   "cell_type": "markdown",
   "id": "2e425e53",
   "metadata": {},
   "source": [
    "### User"
   ]
  },
  {
   "cell_type": "code",
   "execution_count": 11,
   "id": "75e4bf76",
   "metadata": {},
   "outputs": [
    {
     "data": {
      "text/html": [
       "<div>\n",
       "<style scoped>\n",
       "    .dataframe tbody tr th:only-of-type {\n",
       "        vertical-align: middle;\n",
       "    }\n",
       "\n",
       "    .dataframe tbody tr th {\n",
       "        vertical-align: top;\n",
       "    }\n",
       "\n",
       "    .dataframe thead th {\n",
       "        text-align: right;\n",
       "    }\n",
       "</style>\n",
       "<table border=\"1\" class=\"dataframe\">\n",
       "  <thead>\n",
       "    <tr style=\"text-align: right;\">\n",
       "      <th></th>\n",
       "      <th>adult</th>\n",
       "      <th>budget</th>\n",
       "      <th>id</th>\n",
       "      <th>original_title</th>\n",
       "      <th>overview</th>\n",
       "      <th>popularity</th>\n",
       "      <th>revenue</th>\n",
       "      <th>runtime</th>\n",
       "      <th>genre_unlisted</th>\n",
       "      <th>userId</th>\n",
       "      <th>...</th>\n",
       "      <th>horror</th>\n",
       "      <th>movie</th>\n",
       "      <th>music</th>\n",
       "      <th>mystery</th>\n",
       "      <th>romance</th>\n",
       "      <th>science</th>\n",
       "      <th>thriller</th>\n",
       "      <th>tv</th>\n",
       "      <th>war</th>\n",
       "      <th>western</th>\n",
       "    </tr>\n",
       "  </thead>\n",
       "  <tbody>\n",
       "    <tr>\n",
       "      <th>0</th>\n",
       "      <td>False</td>\n",
       "      <td>30000000</td>\n",
       "      <td>862</td>\n",
       "      <td>Toy Story</td>\n",
       "      <td>Led by Woody, Andy's toys live happily in his ...</td>\n",
       "      <td>21.946943</td>\n",
       "      <td>373554033.0</td>\n",
       "      <td>81.0</td>\n",
       "      <td>Animation, Comedy, Family</td>\n",
       "      <td>1923.0</td>\n",
       "      <td>...</td>\n",
       "      <td>0</td>\n",
       "      <td>0</td>\n",
       "      <td>0</td>\n",
       "      <td>0</td>\n",
       "      <td>0</td>\n",
       "      <td>0</td>\n",
       "      <td>0</td>\n",
       "      <td>0</td>\n",
       "      <td>0</td>\n",
       "      <td>0</td>\n",
       "    </tr>\n",
       "    <tr>\n",
       "      <th>1</th>\n",
       "      <td>False</td>\n",
       "      <td>30000000</td>\n",
       "      <td>862</td>\n",
       "      <td>Toy Story</td>\n",
       "      <td>Led by Woody, Andy's toys live happily in his ...</td>\n",
       "      <td>21.946943</td>\n",
       "      <td>373554033.0</td>\n",
       "      <td>81.0</td>\n",
       "      <td>Animation, Comedy, Family</td>\n",
       "      <td>2103.0</td>\n",
       "      <td>...</td>\n",
       "      <td>0</td>\n",
       "      <td>0</td>\n",
       "      <td>0</td>\n",
       "      <td>0</td>\n",
       "      <td>0</td>\n",
       "      <td>0</td>\n",
       "      <td>0</td>\n",
       "      <td>0</td>\n",
       "      <td>0</td>\n",
       "      <td>0</td>\n",
       "    </tr>\n",
       "    <tr>\n",
       "      <th>2</th>\n",
       "      <td>False</td>\n",
       "      <td>30000000</td>\n",
       "      <td>862</td>\n",
       "      <td>Toy Story</td>\n",
       "      <td>Led by Woody, Andy's toys live happily in his ...</td>\n",
       "      <td>21.946943</td>\n",
       "      <td>373554033.0</td>\n",
       "      <td>81.0</td>\n",
       "      <td>Animation, Comedy, Family</td>\n",
       "      <td>5380.0</td>\n",
       "      <td>...</td>\n",
       "      <td>0</td>\n",
       "      <td>0</td>\n",
       "      <td>0</td>\n",
       "      <td>0</td>\n",
       "      <td>0</td>\n",
       "      <td>0</td>\n",
       "      <td>0</td>\n",
       "      <td>0</td>\n",
       "      <td>0</td>\n",
       "      <td>0</td>\n",
       "    </tr>\n",
       "    <tr>\n",
       "      <th>3</th>\n",
       "      <td>False</td>\n",
       "      <td>30000000</td>\n",
       "      <td>862</td>\n",
       "      <td>Toy Story</td>\n",
       "      <td>Led by Woody, Andy's toys live happily in his ...</td>\n",
       "      <td>21.946943</td>\n",
       "      <td>373554033.0</td>\n",
       "      <td>81.0</td>\n",
       "      <td>Animation, Comedy, Family</td>\n",
       "      <td>6177.0</td>\n",
       "      <td>...</td>\n",
       "      <td>0</td>\n",
       "      <td>0</td>\n",
       "      <td>0</td>\n",
       "      <td>0</td>\n",
       "      <td>0</td>\n",
       "      <td>0</td>\n",
       "      <td>0</td>\n",
       "      <td>0</td>\n",
       "      <td>0</td>\n",
       "      <td>0</td>\n",
       "    </tr>\n",
       "    <tr>\n",
       "      <th>4</th>\n",
       "      <td>False</td>\n",
       "      <td>30000000</td>\n",
       "      <td>862</td>\n",
       "      <td>Toy Story</td>\n",
       "      <td>Led by Woody, Andy's toys live happily in his ...</td>\n",
       "      <td>21.946943</td>\n",
       "      <td>373554033.0</td>\n",
       "      <td>81.0</td>\n",
       "      <td>Animation, Comedy, Family</td>\n",
       "      <td>6525.0</td>\n",
       "      <td>...</td>\n",
       "      <td>0</td>\n",
       "      <td>0</td>\n",
       "      <td>0</td>\n",
       "      <td>0</td>\n",
       "      <td>0</td>\n",
       "      <td>0</td>\n",
       "      <td>0</td>\n",
       "      <td>0</td>\n",
       "      <td>0</td>\n",
       "      <td>0</td>\n",
       "    </tr>\n",
       "  </tbody>\n",
       "</table>\n",
       "<p>5 rows × 34 columns</p>\n",
       "</div>"
      ],
      "text/plain": [
       "   adult    budget   id original_title  \\\n",
       "0  False  30000000  862      Toy Story   \n",
       "1  False  30000000  862      Toy Story   \n",
       "2  False  30000000  862      Toy Story   \n",
       "3  False  30000000  862      Toy Story   \n",
       "4  False  30000000  862      Toy Story   \n",
       "\n",
       "                                            overview popularity      revenue  \\\n",
       "0  Led by Woody, Andy's toys live happily in his ...  21.946943  373554033.0   \n",
       "1  Led by Woody, Andy's toys live happily in his ...  21.946943  373554033.0   \n",
       "2  Led by Woody, Andy's toys live happily in his ...  21.946943  373554033.0   \n",
       "3  Led by Woody, Andy's toys live happily in his ...  21.946943  373554033.0   \n",
       "4  Led by Woody, Andy's toys live happily in his ...  21.946943  373554033.0   \n",
       "\n",
       "   runtime             genre_unlisted  userId  ...  horror  movie  music  \\\n",
       "0     81.0  Animation, Comedy, Family  1923.0  ...       0      0      0   \n",
       "1     81.0  Animation, Comedy, Family  2103.0  ...       0      0      0   \n",
       "2     81.0  Animation, Comedy, Family  5380.0  ...       0      0      0   \n",
       "3     81.0  Animation, Comedy, Family  6177.0  ...       0      0      0   \n",
       "4     81.0  Animation, Comedy, Family  6525.0  ...       0      0      0   \n",
       "\n",
       "   mystery  romance  science  thriller  tv  war  western  \n",
       "0        0        0        0         0   0    0        0  \n",
       "1        0        0        0         0   0    0        0  \n",
       "2        0        0        0         0   0    0        0  \n",
       "3        0        0        0         0   0    0        0  \n",
       "4        0        0        0         0   0    0        0  \n",
       "\n",
       "[5 rows x 34 columns]"
      ]
     },
     "execution_count": 11,
     "metadata": {},
     "output_type": "execute_result"
    }
   ],
   "source": [
    "df.head()"
   ]
  },
  {
   "cell_type": "code",
   "execution_count": 12,
   "id": "b3d4bef3",
   "metadata": {},
   "outputs": [
    {
     "data": {
      "text/plain": [
       "Index(['adult', 'budget', 'id', 'original_title', 'overview', 'popularity',\n",
       "       'revenue', 'runtime', 'genre_unlisted', 'userId', 'rating', 'action',\n",
       "       'adventure', 'animation', 'comedy', 'crime', 'documentary', 'drama',\n",
       "       'family', 'fantasy', 'fiction', 'foreign', 'genre_not_specified',\n",
       "       'history', 'horror', 'movie', 'music', 'mystery', 'romance', 'science',\n",
       "       'thriller', 'tv', 'war', 'western'],\n",
       "      dtype='object')"
      ]
     },
     "execution_count": 12,
     "metadata": {},
     "output_type": "execute_result"
    }
   ],
   "source": [
    "df.columns"
   ]
  },
  {
   "cell_type": "code",
   "execution_count": 9,
   "id": "3e8c9b5f",
   "metadata": {},
   "outputs": [],
   "source": [
    "user_features = ['id', 'original_title', 'popularity', 'userId', 'rating']"
   ]
  },
  {
   "cell_type": "code",
   "execution_count": 10,
   "id": "f4789c62",
   "metadata": {},
   "outputs": [],
   "source": [
    "user_df = df[user_features]"
   ]
  },
  {
   "cell_type": "code",
   "execution_count": 11,
   "id": "713d3df7",
   "metadata": {},
   "outputs": [
    {
     "data": {
      "text/html": [
       "<div>\n",
       "<style scoped>\n",
       "    .dataframe tbody tr th:only-of-type {\n",
       "        vertical-align: middle;\n",
       "    }\n",
       "\n",
       "    .dataframe tbody tr th {\n",
       "        vertical-align: top;\n",
       "    }\n",
       "\n",
       "    .dataframe thead th {\n",
       "        text-align: right;\n",
       "    }\n",
       "</style>\n",
       "<table border=\"1\" class=\"dataframe\">\n",
       "  <thead>\n",
       "    <tr style=\"text-align: right;\">\n",
       "      <th></th>\n",
       "      <th>id</th>\n",
       "      <th>original_title</th>\n",
       "      <th>popularity</th>\n",
       "      <th>userId</th>\n",
       "      <th>rating</th>\n",
       "    </tr>\n",
       "  </thead>\n",
       "  <tbody>\n",
       "    <tr>\n",
       "      <th>0</th>\n",
       "      <td>862</td>\n",
       "      <td>Toy Story</td>\n",
       "      <td>21.946943</td>\n",
       "      <td>1923.0</td>\n",
       "      <td>3.0</td>\n",
       "    </tr>\n",
       "    <tr>\n",
       "      <th>1</th>\n",
       "      <td>862</td>\n",
       "      <td>Toy Story</td>\n",
       "      <td>21.946943</td>\n",
       "      <td>2103.0</td>\n",
       "      <td>5.0</td>\n",
       "    </tr>\n",
       "    <tr>\n",
       "      <th>2</th>\n",
       "      <td>862</td>\n",
       "      <td>Toy Story</td>\n",
       "      <td>21.946943</td>\n",
       "      <td>5380.0</td>\n",
       "      <td>1.0</td>\n",
       "    </tr>\n",
       "    <tr>\n",
       "      <th>3</th>\n",
       "      <td>862</td>\n",
       "      <td>Toy Story</td>\n",
       "      <td>21.946943</td>\n",
       "      <td>6177.0</td>\n",
       "      <td>4.0</td>\n",
       "    </tr>\n",
       "    <tr>\n",
       "      <th>4</th>\n",
       "      <td>862</td>\n",
       "      <td>Toy Story</td>\n",
       "      <td>21.946943</td>\n",
       "      <td>6525.0</td>\n",
       "      <td>4.0</td>\n",
       "    </tr>\n",
       "  </tbody>\n",
       "</table>\n",
       "</div>"
      ],
      "text/plain": [
       "    id original_title popularity  userId  rating\n",
       "0  862      Toy Story  21.946943  1923.0     3.0\n",
       "1  862      Toy Story  21.946943  2103.0     5.0\n",
       "2  862      Toy Story  21.946943  5380.0     1.0\n",
       "3  862      Toy Story  21.946943  6177.0     4.0\n",
       "4  862      Toy Story  21.946943  6525.0     4.0"
      ]
     },
     "execution_count": 11,
     "metadata": {},
     "output_type": "execute_result"
    }
   ],
   "source": [
    "user_df.head()"
   ]
  },
  {
   "cell_type": "code",
   "execution_count": 12,
   "id": "52f7bf91",
   "metadata": {},
   "outputs": [
    {
     "data": {
      "text/plain": [
       "37948"
      ]
     },
     "execution_count": 12,
     "metadata": {},
     "output_type": "execute_result"
    }
   ],
   "source": [
    "user_df.rating.isnull().sum()"
   ]
  },
  {
   "cell_type": "code",
   "execution_count": 14,
   "id": "5c25827f",
   "metadata": {},
   "outputs": [],
   "source": [
    "non_missing_rating = user_df[~user_df.rating.isnull()]"
   ]
  },
  {
   "cell_type": "code",
   "execution_count": 16,
   "id": "c5680a07",
   "metadata": {},
   "outputs": [
    {
     "data": {
      "text/plain": [
       "7462"
      ]
     },
     "execution_count": 16,
     "metadata": {},
     "output_type": "execute_result"
    }
   ],
   "source": [
    "non_missing_rating.original_title.nunique()"
   ]
  },
  {
   "cell_type": "code",
   "execution_count": 21,
   "id": "571f6e12",
   "metadata": {},
   "outputs": [
    {
     "data": {
      "text/plain": [
       "7565"
      ]
     },
     "execution_count": 21,
     "metadata": {},
     "output_type": "execute_result"
    }
   ],
   "source": [
    "non_missing_rating.id.nunique()"
   ]
  },
  {
   "cell_type": "code",
   "execution_count": 25,
   "id": "762d8ae7",
   "metadata": {},
   "outputs": [
    {
     "name": "stdout",
     "output_type": "stream",
     "text": [
      "<class 'pandas.core.frame.DataFrame'>\n",
      "Int64Index: 11439775 entries, 0 to 11477719\n",
      "Data columns (total 5 columns):\n",
      " #   Column          Dtype  \n",
      "---  ------          -----  \n",
      " 0   id              object \n",
      " 1   original_title  object \n",
      " 2   popularity      object \n",
      " 3   userId          float64\n",
      " 4   rating          float64\n",
      "dtypes: float64(2), object(3)\n",
      "memory usage: 523.7+ MB\n"
     ]
    }
   ],
   "source": [
    "non_missing_rating.info()"
   ]
  },
  {
   "cell_type": "code",
   "execution_count": 28,
   "id": "cc5b8fb8",
   "metadata": {},
   "outputs": [
    {
     "name": "stderr",
     "output_type": "stream",
     "text": [
      "/Users/yoonhokim/miniforge3/envs/tensorflow/lib/python3.9/site-packages/pandas/core/indexing.py:1773: SettingWithCopyWarning: \n",
      "A value is trying to be set on a copy of a slice from a DataFrame.\n",
      "Try using .loc[row_indexer,col_indexer] = value instead\n",
      "\n",
      "See the caveats in the documentation: https://pandas.pydata.org/pandas-docs/stable/user_guide/indexing.html#returning-a-view-versus-a-copy\n",
      "  self._setitem_single_column(ilocs[0], value, pi)\n"
     ]
    }
   ],
   "source": [
    "non_missing_rating.loc[:, 'popularity'] = non_missing_rating.popularity.apply(lambda pop: float(pop))"
   ]
  },
  {
   "cell_type": "code",
   "execution_count": 29,
   "id": "0c131442",
   "metadata": {},
   "outputs": [
    {
     "data": {
      "text/plain": [
       "count    1.143978e+07\n",
       "mean     8.028415e+00\n",
       "std      6.590341e+00\n",
       "min      0.000000e+00\n",
       "25%      2.967672e+00\n",
       "50%      7.505268e+00\n",
       "75%      1.141632e+01\n",
       "max      1.409502e+02\n",
       "Name: popularity, dtype: float64"
      ]
     },
     "execution_count": 29,
     "metadata": {},
     "output_type": "execute_result"
    }
   ],
   "source": [
    "non_missing_rating.popularity.describe()"
   ]
  },
  {
   "cell_type": "code",
   "execution_count": 30,
   "id": "67e024bf",
   "metadata": {},
   "outputs": [
    {
     "data": {
      "text/plain": [
       "0.0"
      ]
     },
     "execution_count": 30,
     "metadata": {},
     "output_type": "execute_result"
    }
   ],
   "source": [
    "np.min(non_missing_rating.popularity)"
   ]
  },
  {
   "cell_type": "code",
   "execution_count": null,
   "id": "ffb0fea6",
   "metadata": {},
   "outputs": [],
   "source": [
    "np.min(non_missing_rating.popularity)"
   ]
  },
  {
   "cell_type": "code",
   "execution_count": 22,
   "id": "0fcfcf44",
   "metadata": {},
   "outputs": [
    {
     "data": {
      "text/plain": [
       "id\n",
       "100       3.232304\n",
       "100010    2.522727\n",
       "100017    3.100000\n",
       "100032    3.600000\n",
       "100042    3.333333\n",
       "            ...   \n",
       "99861     3.296296\n",
       "99875     3.148148\n",
       "99904     2.071429\n",
       "99922     3.000000\n",
       "99946     3.600000\n",
       "Name: rating, Length: 7565, dtype: float64"
      ]
     },
     "execution_count": 22,
     "metadata": {},
     "output_type": "execute_result"
    }
   ],
   "source": [
    "non_missing_rating.groupby(['id']).mean()['rating']"
   ]
  },
  {
   "cell_type": "code",
   "execution_count": null,
   "id": "25835dfd",
   "metadata": {},
   "outputs": [],
   "source": []
  }
 ],
 "metadata": {
  "kernelspec": {
   "display_name": "Python 3.9 (tensorflow)",
   "language": "python",
   "name": "tensorflow"
  },
  "language_info": {
   "codemirror_mode": {
    "name": "ipython",
    "version": 3
   },
   "file_extension": ".py",
   "mimetype": "text/x-python",
   "name": "python",
   "nbconvert_exporter": "python",
   "pygments_lexer": "ipython3",
   "version": "3.9.12"
  }
 },
 "nbformat": 4,
 "nbformat_minor": 5
}
